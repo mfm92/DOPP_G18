{
 "cells": [
  {
   "cell_type": "markdown",
   "id": "infrared-consortium",
   "metadata": {
    "toc": true
   },
   "source": [
    "<h1>Table of Contents<span class=\"tocSkip\"></span></h1>\n",
    "<div class=\"toc\"><ul class=\"toc-item\"><li><span><a href=\"#Introduction-to-Assignment\" data-toc-modified-id=\"Introduction-to-Assignment-1\"><span class=\"toc-item-num\">1&nbsp;&nbsp;</span>Introduction to Assignment</a></span><ul class=\"toc-item\"><li><span><a href=\"#Topic-and-Questions-to-answer\" data-toc-modified-id=\"Topic-and-Questions-to-answer-1.1\"><span class=\"toc-item-num\">1.1&nbsp;&nbsp;</span>Topic and Questions to answer</a></span></li><li><span><a href=\"#Justification-For-Limit-Of-Scope\" data-toc-modified-id=\"Justification-For-Limit-Of-Scope-1.2\"><span class=\"toc-item-num\">1.2&nbsp;&nbsp;</span>Justification For Limit Of Scope</a></span></li><li><span><a href=\"#Workflow-plan-&amp;-Project-management\" data-toc-modified-id=\"Workflow-plan-&amp;-Project-management-1.3\"><span class=\"toc-item-num\">1.3&nbsp;&nbsp;</span>Workflow plan &amp; Project management</a></span></li><li><span><a href=\"#Data\" data-toc-modified-id=\"Data-1.4\"><span class=\"toc-item-num\">1.4&nbsp;&nbsp;</span>Data</a></span></li></ul></li><li><span><a href=\"#Estimating-publication-year-from-Project-Gutenberg\" data-toc-modified-id=\"Estimating-publication-year-from-Project-Gutenberg-2\"><span class=\"toc-item-num\">2&nbsp;&nbsp;</span>Estimating publication year from Project Gutenberg</a></span><ul class=\"toc-item\"><li><span><a href=\"#Setup\" data-toc-modified-id=\"Setup-2.1\"><span class=\"toc-item-num\">2.1&nbsp;&nbsp;</span>Setup</a></span><ul class=\"toc-item\"><li><span><a href=\"#Import-packages\" data-toc-modified-id=\"Import-packages-2.1.1\"><span class=\"toc-item-num\">2.1.1&nbsp;&nbsp;</span>Import packages</a></span></li><li><span><a href=\"#Define-Constants\" data-toc-modified-id=\"Define-Constants-2.1.2\"><span class=\"toc-item-num\">2.1.2&nbsp;&nbsp;</span>Define Constants</a></span></li></ul></li><li><span><a href=\"#Importing-the-data\" data-toc-modified-id=\"Importing-the-data-2.2\"><span class=\"toc-item-num\">2.2&nbsp;&nbsp;</span>Importing the data</a></span><ul class=\"toc-item\"><li><span><a href=\"#Getting-the-content\" data-toc-modified-id=\"Getting-the-content-2.2.1\"><span class=\"toc-item-num\">2.2.1&nbsp;&nbsp;</span>Getting the content</a></span></li><li><span><a href=\"#Data-Cleansing\" data-toc-modified-id=\"Data-Cleansing-2.2.2\"><span class=\"toc-item-num\">2.2.2&nbsp;&nbsp;</span>Data Cleansing</a></span><ul class=\"toc-item\"><li><span><a href=\"#Read-a-single-file\" data-toc-modified-id=\"Read-a-single-file-2.2.2.1\"><span class=\"toc-item-num\">2.2.2.1&nbsp;&nbsp;</span>Read a single file</a></span></li><li><span><a href=\"#Return-list-of-all-words\" data-toc-modified-id=\"Return-list-of-all-words-2.2.2.2\"><span class=\"toc-item-num\">2.2.2.2&nbsp;&nbsp;</span>Return list of all words</a></span></li></ul></li></ul></li><li><span><a href=\"#Statistics\" data-toc-modified-id=\"Statistics-2.3\"><span class=\"toc-item-num\">2.3&nbsp;&nbsp;</span>Statistics</a></span><ul class=\"toc-item\"><li><span><a href=\"#First-attempt\" data-toc-modified-id=\"First-attempt-2.3.1\"><span class=\"toc-item-num\">2.3.1&nbsp;&nbsp;</span>First attempt</a></span></li><li><span><a href=\"#Read-all-files,-and-do-preprocessing\" data-toc-modified-id=\"Read-all-files,-and-do-preprocessing-2.3.2\"><span class=\"toc-item-num\">2.3.2&nbsp;&nbsp;</span>Read all files, and do preprocessing</a></span></li><li><span><a href=\"#Compare-Word-ranking-between-titles\" data-toc-modified-id=\"Compare-Word-ranking-between-titles-2.3.3\"><span class=\"toc-item-num\">2.3.3&nbsp;&nbsp;</span>Compare Word ranking between titles</a></span></li></ul></li><li><span><a href=\"#Second-testing\" data-toc-modified-id=\"Second-testing-2.4\"><span class=\"toc-item-num\">2.4&nbsp;&nbsp;</span>Second testing</a></span></li><li><span><a href=\"#Realisation-and-conclusion\" data-toc-modified-id=\"Realisation-and-conclusion-2.5\"><span class=\"toc-item-num\">2.5&nbsp;&nbsp;</span>Realisation and conclusion</a></span></li></ul></li><li><span><a href=\"#Studying-language-change-in-Icelandic-parliamentary-speeches\" data-toc-modified-id=\"Studying-language-change-in-Icelandic-parliamentary-speeches-3\"><span class=\"toc-item-num\">3&nbsp;&nbsp;</span>Studying language change in Icelandic parliamentary speeches</a></span><ul class=\"toc-item\"><li><span><a href=\"#Introduction\" data-toc-modified-id=\"Introduction-3.1\"><span class=\"toc-item-num\">3.1&nbsp;&nbsp;</span>Introduction</a></span></li><li><span><a href=\"#Setup\" data-toc-modified-id=\"Setup-3.2\"><span class=\"toc-item-num\">3.2&nbsp;&nbsp;</span>Setup</a></span><ul class=\"toc-item\"><li><span><a href=\"#Load-required-libraries\" data-toc-modified-id=\"Load-required-libraries-3.2.1\"><span class=\"toc-item-num\">3.2.1&nbsp;&nbsp;</span>Load required libraries</a></span></li><li><span><a href=\"#Get-the-data\" data-toc-modified-id=\"Get-the-data-3.2.2\"><span class=\"toc-item-num\">3.2.2&nbsp;&nbsp;</span>Get the data</a></span></li><li><span><a href=\"#Preprocessing-helpers\" data-toc-modified-id=\"Preprocessing-helpers-3.2.3\"><span class=\"toc-item-num\">3.2.3&nbsp;&nbsp;</span>Preprocessing helpers</a></span></li></ul></li><li><span><a href=\"#Preliminary-Data-Analysis\" data-toc-modified-id=\"Preliminary-Data-Analysis-3.3\"><span class=\"toc-item-num\">3.3&nbsp;&nbsp;</span>Preliminary Data Analysis</a></span><ul class=\"toc-item\"><li><span><a href=\"#Zipf's-Law\" data-toc-modified-id=\"Zipf's-Law-3.3.1\"><span class=\"toc-item-num\">3.3.1&nbsp;&nbsp;</span>Zipf's Law</a></span></li><li><span><a href=\"#Disappearing-words-/-new-words\" data-toc-modified-id=\"Disappearing-words-/-new-words-3.3.2\"><span class=\"toc-item-num\">3.3.2&nbsp;&nbsp;</span>Disappearing words / new words</a></span></li><li><span><a href=\"#Development-of-average-sentence-length\" data-toc-modified-id=\"Development-of-average-sentence-length-3.3.3\"><span class=\"toc-item-num\">3.3.3&nbsp;&nbsp;</span>Development of average sentence length</a></span></li><li><span><a href=\"#n-grams\" data-toc-modified-id=\"n-grams-3.3.4\"><span class=\"toc-item-num\">3.3.4&nbsp;&nbsp;</span>n-grams</a></span></li></ul></li><li><span><a href=\"#Building-model-for-classifying-speeches\" data-toc-modified-id=\"Building-model-for-classifying-speeches-3.4\"><span class=\"toc-item-num\">3.4&nbsp;&nbsp;</span>Building model for classifying speeches</a></span><ul class=\"toc-item\"><li><span><a href=\"#Constructing-training-and-test-data\" data-toc-modified-id=\"Constructing-training-and-test-data-3.4.1\"><span class=\"toc-item-num\">3.4.1&nbsp;&nbsp;</span>Constructing training and test data</a></span><ul class=\"toc-item\"><li><span><a href=\"#Train-data\" data-toc-modified-id=\"Train-data-3.4.1.1\"><span class=\"toc-item-num\">3.4.1.1&nbsp;&nbsp;</span>Train data</a></span></li><li><span><a href=\"#Test-data\" data-toc-modified-id=\"Test-data-3.4.1.2\"><span class=\"toc-item-num\">3.4.1.2&nbsp;&nbsp;</span>Test data</a></span></li></ul></li><li><span><a href=\"#Text-feature-extraction\" data-toc-modified-id=\"Text-feature-extraction-3.4.2\"><span class=\"toc-item-num\">3.4.2&nbsp;&nbsp;</span>Text feature extraction</a></span><ul class=\"toc-item\"><li><span><a href=\"#TF-IDF\" data-toc-modified-id=\"TF-IDF-3.4.2.1\"><span class=\"toc-item-num\">3.4.2.1&nbsp;&nbsp;</span>TF-IDF</a></span></li><li><span><a href=\"#Word2Vec\" data-toc-modified-id=\"Word2Vec-3.4.2.2\"><span class=\"toc-item-num\">3.4.2.2&nbsp;&nbsp;</span>Word2Vec</a></span></li><li><span><a href=\"#Doc2Vec\" data-toc-modified-id=\"Doc2Vec-3.4.2.3\"><span class=\"toc-item-num\">3.4.2.3&nbsp;&nbsp;</span>Doc2Vec</a></span></li></ul></li><li><span><a href=\"#Classifiers\" data-toc-modified-id=\"Classifiers-3.4.3\"><span class=\"toc-item-num\">3.4.3&nbsp;&nbsp;</span>Classifiers</a></span><ul class=\"toc-item\"><li><span><a href=\"#Multinominal-Naive-Bayes\" data-toc-modified-id=\"Multinominal-Naive-Bayes-3.4.3.1\"><span class=\"toc-item-num\">3.4.3.1&nbsp;&nbsp;</span>Multinominal Naive Bayes</a></span></li><li><span><a href=\"#Support-Vector-Machines\" data-toc-modified-id=\"Support-Vector-Machines-3.4.3.2\"><span class=\"toc-item-num\">3.4.3.2&nbsp;&nbsp;</span>Support Vector Machines</a></span></li><li><span><a href=\"#Random-Forest-Classifier\" data-toc-modified-id=\"Random-Forest-Classifier-3.4.3.3\"><span class=\"toc-item-num\">3.4.3.3&nbsp;&nbsp;</span>Random Forest Classifier</a></span></li></ul></li><li><span><a href=\"#Train-models\" data-toc-modified-id=\"Train-models-3.4.4\"><span class=\"toc-item-num\">3.4.4&nbsp;&nbsp;</span>Train models</a></span><ul class=\"toc-item\"><li><span><a href=\"#Model-1:-TFIDF-vectorizer,-select-K-best-and-Multinomial-Naive-Bayes\" data-toc-modified-id=\"Model-1:-TFIDF-vectorizer,-select-K-best-and-Multinomial-Naive-Bayes-3.4.4.1\"><span class=\"toc-item-num\">3.4.4.1&nbsp;&nbsp;</span>Model 1: TFIDF vectorizer, select K best and Multinomial Naive Bayes</a></span></li><li><span><a href=\"#Model-2:-TFIDF-vectorizer,-select-K-best-and-SVC\" data-toc-modified-id=\"Model-2:-TFIDF-vectorizer,-select-K-best-and-SVC-3.4.4.2\"><span class=\"toc-item-num\">3.4.4.2&nbsp;&nbsp;</span>Model 2: TFIDF vectorizer, select K best and SVC</a></span></li><li><span><a href=\"#Model-3:-TFIDF-vectorizer,-select-K-best-and-Random-Forest-Classifier\" data-toc-modified-id=\"Model-3:-TFIDF-vectorizer,-select-K-best-and-Random-Forest-Classifier-3.4.4.3\"><span class=\"toc-item-num\">3.4.4.3&nbsp;&nbsp;</span>Model 3: TFIDF vectorizer, select K best and Random Forest Classifier</a></span></li><li><span><a href=\"#Model-4:-Word2Vec-and-SVC\" data-toc-modified-id=\"Model-4:-Word2Vec-and-SVC-3.4.4.4\"><span class=\"toc-item-num\">3.4.4.4&nbsp;&nbsp;</span>Model 4: Word2Vec and SVC</a></span></li><li><span><a href=\"#Model-5:-Word2Vec-and-Random-Forest-Classifier\" data-toc-modified-id=\"Model-5:-Word2Vec-and-Random-Forest-Classifier-3.4.4.5\"><span class=\"toc-item-num\">3.4.4.5&nbsp;&nbsp;</span>Model 5: Word2Vec and Random Forest Classifier</a></span></li><li><span><a href=\"#Model-6:-Doc2Vec-and-Support-Vector-Machines\" data-toc-modified-id=\"Model-6:-Doc2Vec-and-Support-Vector-Machines-3.4.4.6\"><span class=\"toc-item-num\">3.4.4.6&nbsp;&nbsp;</span>Model 6: Doc2Vec and Support Vector Machines</a></span></li><li><span><a href=\"#Model-7:-Doc2Vec-and-Random-Forest-Classifier\" data-toc-modified-id=\"Model-7:-Doc2Vec-and-Random-Forest-Classifier-3.4.4.7\"><span class=\"toc-item-num\">3.4.4.7&nbsp;&nbsp;</span>Model 7: Doc2Vec and Random Forest Classifier</a></span></li></ul></li><li><span><a href=\"#Compare-CV-results-from-trained-models\" data-toc-modified-id=\"Compare-CV-results-from-trained-models-3.4.5\"><span class=\"toc-item-num\">3.4.5&nbsp;&nbsp;</span>Compare CV results from trained models</a></span><ul class=\"toc-item\"><li><span><a href=\"#Raw-results\" data-toc-modified-id=\"Raw-results-3.4.5.1\"><span class=\"toc-item-num\">3.4.5.1&nbsp;&nbsp;</span>Raw results</a></span></li><li><span><a href=\"#Tradeoff-score-vs-mean-fit-time\" data-toc-modified-id=\"Tradeoff-score-vs-mean-fit-time-3.4.5.2\"><span class=\"toc-item-num\">3.4.5.2&nbsp;&nbsp;</span>Tradeoff score vs mean fit time</a></span></li><li><span><a href=\"#Best-estimator-from-each-model\" data-toc-modified-id=\"Best-estimator-from-each-model-3.4.5.3\"><span class=\"toc-item-num\">3.4.5.3&nbsp;&nbsp;</span>Best estimator from each model</a></span></li><li><span><a href=\"#Best-5-models\" data-toc-modified-id=\"Best-5-models-3.4.5.4\"><span class=\"toc-item-num\">3.4.5.4&nbsp;&nbsp;</span>Best 5 models</a></span></li></ul></li></ul></li><li><span><a href=\"#Evaluation-and-model-selection\" data-toc-modified-id=\"Evaluation-and-model-selection-3.5\"><span class=\"toc-item-num\">3.5&nbsp;&nbsp;</span>Evaluation and model selection</a></span><ul class=\"toc-item\"><li><span><a href=\"#Michaels-Testing\" data-toc-modified-id=\"Michaels-Testing-3.5.1\"><span class=\"toc-item-num\">3.5.1&nbsp;&nbsp;</span>Michaels Testing</a></span></li></ul></li><li><span><a href=\"#Conclusion\" data-toc-modified-id=\"Conclusion-3.6\"><span class=\"toc-item-num\">3.6&nbsp;&nbsp;</span>Conclusion</a></span></li></ul></li><li><span><a href=\"#Further-Works\" data-toc-modified-id=\"Further-Works-4\"><span class=\"toc-item-num\">4&nbsp;&nbsp;</span>Further Works</a></span></li></ul></div>"
   ]
  },
  {
   "cell_type": "markdown",
   "id": "fitted-cross",
   "metadata": {},
   "source": [
    "# Introduction to Assignment"
   ]
  },
  {
   "cell_type": "markdown",
   "id": "spectacular-mediterranean",
   "metadata": {},
   "source": [
    "This is the third Exercise of **188.995 Data-Oriented Programming Paradigms**\n",
    "\n",
    "We are group 18, and consist of:\n",
    "* Guillermo Alamán Requena, Matr. Nr: 11937906\n",
    "* Michael Ferdinand Moser, Matr. Nr: 01123077 \n",
    "* Paul Joe Maliakel, Matr. Nr: 12012422\n",
    "* Gunnar Sjúrðarson Knudsen, Matr. Nr: 12028205\n",
    "\n",
    "In this task we were asked to choose one vaguely worded question, and then narrow the scope, figuring out how to get the data, before finally solving the question at hand.\n",
    "We chose **Question 21**, which contains:\n",
    "* How does the use of various communication languages in countries change over time?\n",
    "* Which languages grow and which disappear,  and what are their characteristics?\n",
    "* Are there other factors that correlate with the appearance or disappearance of languages?\n",
    "\n",
    "\n",
    "We soon realized that the question as stated is far too broad, and we therefore had to limit it.\n",
    "\n",
    "Figuring out \n",
    "\n",
    "After having discussed amoung our groups, we figured that we could limit the scope to only comparing english, scraping news-articles, books and wikipedia-articles, and then setting our goal of the task to see if we could predict when a piece of text was written, as well as figuring out what triggered a difference in the three formats.\n",
    "\n",
    "After having a preliminary meeting with Univ.Prof. Dr. Hanbury and Dipl.-Ing. Dr. Piroi, who gave great input, we decided to use Project Gutenberg as a datasource, and setting our hypothesis to see wether it was possible to generate a model that predicted the publication year/decade for a set of books."
   ]
  },
  {
   "cell_type": "markdown",
   "id": "wound-patent",
   "metadata": {},
   "source": [
    "## Topic and Questions to answer\n",
    "We've selected question 21, which is regarding how communication languages in countries change over time.\n",
    "\n",
    "After having discussed the data available, and planned a workflow, we've decided to try to answer the questions:\n",
    "* How has the English language changed in the past 100 years based on word frequencies, sentence length, ...?\n",
    "* Can we find parallel developments between different genres of text?\n",
    "* Can the publication year of a movie/article/whatever be predicted based on the text and its characteristics?\n",
    "\n",
    "\n",
    "## Justification For Limit Of Scope\n",
    "The sample questions stated in the task description are too broad, to be answered in a single 160 hour project.\n",
    "* Lot's of issues, such as: \n",
    "* Lack of census data; \n",
    "* other changes such as phonetic, semantic and syntactic meanings; \n",
    "* High correlation with e.g:\n",
    "    * country population\n",
    "    * age of speakers\n",
    "    * ...\n",
    "* What counts as a language? \n",
    "    * dialect? \n",
    "    * Mutually Intelligible?\n",
    "* Political dimensions\n",
    "* Multilingual people\n",
    "* How do we check accuracy of the available data?\n",
    "* ...\n",
    "\n",
    "\n",
    "Historical data for language use is likely not available for most languages, as it's topics for great research to estimate merely historical populations - especially before 1850 or so. \n",
    "The evolution of languages are much less documented. \n",
    "Lack of census data overall, but other changes are even harder to gauge, such as phonetic, semantic, and syntactic meanings. Highly correlated with population of countries, but also with \"hidden\" correlations, such as age of speakers, ... \n",
    "Even dead languages can be revived. \n",
    "\n",
    "What constitutes a language? Dialect? Mutually Intelligible? Also do not forget the political dimension, e.g. Croatian/Serbian really are just dialects of the same language but they want to keep separate. On the other end of this scheme the variant of Chinese spoken in Beijing may be drastically different from the Chinese spoken in other regions of the country, but still falls under the same \"Chinese\" umbrella to communicate unity. \n",
    "\n",
    "How much is spoken? Should we consider people who studied a language as their second, third... language? If so, how well should be the command over the language for the person to count? A1/B1/C2 level?\n",
    "%How do we check accuracy of the available data?\n",
    "\n",
    "## Workflow plan & Project management\n",
    "* Outline the plan\n",
    "    * Get, understand and clean data: articles/movie scripts/video transcripts over the years (see next section)\n",
    "    * Train-test split: keeping proportion of publication years within the splits.\n",
    "    * Preprocessing: text feature extraction, feature selection, scaling, etc. (Come back here if necessary)\n",
    "    * Visualization: evolution of words over the years, word-clouds and other relevant characteristics.\n",
    "    * Define evaluation metrics, train different models/parameters using CV and select best one for predictions.\n",
    "    * Predict, conclude, report and publish notebook in Kaggle Kernel.\n",
    "* How the work will be divided up between group members\n",
    "    * Acquisition, cleaning and prepossessing of the data will be done commonly.\n",
    "    * Each member of the group will train a model and report results using same evaluation metrics. \n",
    "    * Jointly choose the best model and conclude.\n",
    "    * Presentation, report and publishing will be also split. \n",
    "* Timeline: To be defined after review meeting    \n",
    "\n",
    "\n",
    "## Data\n",
    "\n",
    "Our goal is to get a dataset similar to:\n",
    "\n",
    "\n",
    "\n",
    "| **Corpus** | **Year Published** | **Type**               | ... |\n",
    "|------------|--------------------|------------------------|-----|\n",
    "| Text1      | 1976               | News                   | ... |\n",
    "| Text2      | 1976               | Movie Script           | ... |\n",
    "| ...        | ...                | ...                    | ... |\n",
    "| TextN      | 2009               | Scientific Article     | ... |\n",
    "\n",
    "Feature extraction from texts will be performed to obtain appropriate features for modeling. To build a dataset like this one, we will rely on the following kind sources: \n",
    "\n",
    "* \\url{https://www.kaggle.com/asad1m9a9h6mood/news-articles} - News articles from 2015 until date.\n",
    "* \\url{https://www.kaggle.com/snapcrack/all-the-news} - 143000 articles from 15 American Publications. \n",
    "* NLTK\n",
    "* ...\n"
   ]
  },
  {
   "cell_type": "markdown",
   "id": "healthy-auckland",
   "metadata": {},
   "source": [
    "# Estimating publication year from Project Gutenberg"
   ]
  },
  {
   "cell_type": "markdown",
   "id": "cathedral-blade",
   "metadata": {},
   "source": [
    "## Setup"
   ]
  },
  {
   "cell_type": "markdown",
   "id": "difficult-andrews",
   "metadata": {},
   "source": [
    "### Import packages"
   ]
  },
  {
   "cell_type": "code",
   "execution_count": 83,
   "id": "senior-bidding",
   "metadata": {},
   "outputs": [],
   "source": [
    "from __future__ import absolute_import\n",
    "from builtins import str\n",
    "import os\n",
    "from six import u\n",
    "\n",
    "from os import listdir\n",
    "from os.path import isfile, join\n",
    "\n",
    "import nltk\n",
    "import re\n",
    "from operator import itemgetter    \n",
    "import pandas as pd\n",
    "from functools import reduce\n",
    "\n",
    "import random\n",
    "\n",
    "pd.set_option('display.max_rows', None)\n",
    "\n",
    "import math\n",
    "\n",
    "from sklearn.feature_extraction.text import TfidfTransformer\n",
    "\n",
    "from pprint import pprint\n",
    "from time import time\n",
    "import logging\n",
    "\n",
    "from sklearn.datasets import fetch_20newsgroups\n",
    "from sklearn.feature_extraction.text import CountVectorizer\n",
    "from sklearn.feature_extraction.text import TfidfTransformer\n",
    "from sklearn.linear_model import SGDClassifier\n",
    "from sklearn.naive_bayes import MultinomialNB\n",
    "from sklearn.model_selection import GridSearchCV\n",
    "from sklearn.pipeline import Pipeline\n",
    "\n",
    "from sklearn.feature_selection import SelectKBest, chi2"
   ]
  },
  {
   "cell_type": "markdown",
   "id": "manual-registration",
   "metadata": {},
   "source": [
    "### Define Constants"
   ]
  },
  {
   "cell_type": "code",
   "execution_count": 84,
   "id": "coastal-subsection",
   "metadata": {},
   "outputs": [],
   "source": [
    "file_path = \"processedData\"\n",
    "\n",
    "TEXT_START_MARKERS = frozenset((u(_) for _ in (\n",
    "    \"*END*THE SMALL PRINT\",\n",
    "    \"*** START OF THE PROJECT GUTENBERG\",\n",
    "    \"*** START OF THIS PROJECT GUTENBERG\",\n",
    "    \"This etext was prepared by\",\n",
    "    \"E-text prepared by\",\n",
    "    \"Produced by\",\n",
    "    \"Distributed Proofreading Team\",\n",
    "    \"Proofreading Team at http://www.pgdp.net\",\n",
    "    \"http://gallica.bnf.fr)\",\n",
    "    \"      http://archive.org/details/\",\n",
    "    \"http://www.pgdp.net\",\n",
    "    \"by The Internet Archive)\",\n",
    "    \"by The Internet Archive/Canadian Libraries\",\n",
    "    \"by The Internet Archive/American Libraries\",\n",
    "    \"public domain material from the Internet Archive\",\n",
    "    \"Internet Archive)\",\n",
    "    \"Internet Archive/Canadian Libraries\",\n",
    "    \"Internet Archive/American Libraries\",\n",
    "    \"material from the Google Print project\",\n",
    "    \"*END THE SMALL PRINT\",\n",
    "    \"***START OF THE PROJECT GUTENBERG\",\n",
    "    \"This etext was produced by\",\n",
    "    \"*** START OF THE COPYRIGHTED\",\n",
    "    \"The Project Gutenberg\",\n",
    "    \"http://gutenberg.spiegel.de/ erreichbar.\",\n",
    "    \"Project Runeberg publishes\",\n",
    "    \"Beginning of this Project Gutenberg\",\n",
    "    \"Project Gutenberg Online Distributed\",\n",
    "    \"Gutenberg Online Distributed\",\n",
    "    \"the Project Gutenberg Online Distributed\",\n",
    "    \"Project Gutenberg TEI\",\n",
    "    \"This eBook was prepared by\",\n",
    "    \"http://gutenberg2000.de erreichbar.\",\n",
    "    \"This Etext was prepared by\",\n",
    "    \"This Project Gutenberg Etext was prepared by\",\n",
    "    \"Gutenberg Distributed Proofreaders\",\n",
    "    \"Project Gutenberg Distributed Proofreaders\",\n",
    "    \"the Project Gutenberg Online Distributed Proofreading Team\",\n",
    "    \"**The Project Gutenberg\",\n",
    "    \"*SMALL PRINT!\",\n",
    "    \"More information about this book is at the top of this file.\",\n",
    "    \"tells you about restrictions in how the file may be used.\",\n",
    "    \"l'authorization à les utilizer pour preparer ce texte.\",\n",
    "    \"of the etext through OCR.\",\n",
    "    \"*****These eBooks Were Prepared By Thousands of Volunteers!*****\",\n",
    "    \"We need your donations more than ever!\",\n",
    "    \" *** START OF THIS PROJECT GUTENBERG\",\n",
    "    \"****     SMALL PRINT!\",\n",
    "    '[\"Small Print\" V.',\n",
    "    '      (http://www.ibiblio.org/gutenberg/',\n",
    "    'and the Project Gutenberg Online Distributed Proofreading Team',\n",
    "    'Mary Meehan, and the Project Gutenberg Online Distributed Proofreading',\n",
    "    '                this Project Gutenberg edition.',\n",
    ")))\n",
    "\n",
    "\n",
    "TEXT_END_MARKERS = frozenset((u(_) for _ in (\n",
    "    \"*** END OF THE PROJECT GUTENBERG\",\n",
    "    \"*** END OF THIS PROJECT GUTENBERG\",\n",
    "    \"***END OF THE PROJECT GUTENBERG\",\n",
    "    \"End of the Project Gutenberg\",\n",
    "    \"End of The Project Gutenberg\",\n",
    "    \"Ende dieses Project Gutenberg\",\n",
    "    \"by Project Gutenberg\",\n",
    "    \"End of Project Gutenberg\",\n",
    "    \"End of this Project Gutenberg\",\n",
    "    \"Ende dieses Projekt Gutenberg\",\n",
    "    \"        ***END OF THE PROJECT GUTENBERG\",\n",
    "    \"*** END OF THE COPYRIGHTED\",\n",
    "    \"End of this is COPYRIGHTED\",\n",
    "    \"Ende dieses Etextes \",\n",
    "    \"Ende dieses Project Gutenber\",\n",
    "    \"Ende diese Project Gutenberg\",\n",
    "    \"**This is a COPYRIGHTED Project Gutenberg Etext, Details Above**\",\n",
    "    \"Fin de Project Gutenberg\",\n",
    "    \"The Project Gutenberg Etext of \",\n",
    "    \"Ce document fut presente en lecture\",\n",
    "    \"Ce document fut présenté en lecture\",\n",
    "    \"More information about this book is at the top of this file.\",\n",
    "    \"We need your donations more than ever!\",\n",
    "    \"END OF PROJECT GUTENBERG\",\n",
    "    \" End of the Project Gutenberg\",\n",
    "    \" *** END OF THIS PROJECT GUTENBERG\",\n",
    ")))\n",
    "\n",
    "\n",
    "LEGALESE_START_MARKERS = frozenset((u(_) for _ in (\n",
    "    \"<<THIS ELECTRONIC VERSION OF\",\n",
    ")))\n",
    "\n",
    "\n",
    "LEGALESE_END_MARKERS = frozenset((u(_) for _ in (\n",
    "    \"SERVICE THAT CHARGES FOR DOWNLOAD\",\n",
    ")))\n",
    "\n",
    "TITLE_MARKERS = frozenset((u(_) for _ in (\n",
    "    \"Title:\",\n",
    ")))\n",
    "\n",
    "AUTHOR_MARKERS = frozenset((u(_) for _ in (\n",
    "    \"Author:\",\n",
    ")))\n",
    "DATE_MARKERS = frozenset((u(_) for _ in (\n",
    "    \"Release Date:\",\"Release Date:\"\n",
    ")))\n",
    "LANGUAGE_MARKERS = frozenset((u(_) for _ in (\n",
    "    \"Language:\",\n",
    ")))\n",
    "ENCODING_MARKERS = frozenset((u(_) for _ in (\n",
    "    \"Character set encoding:\",\n",
    ")))\n"
   ]
  },
  {
   "cell_type": "code",
   "execution_count": null,
   "id": "irish-performance",
   "metadata": {},
   "outputs": [],
   "source": []
  },
  {
   "cell_type": "markdown",
   "id": "romantic-myrtle",
   "metadata": {},
   "source": [
    "## Importing the data"
   ]
  },
  {
   "cell_type": "markdown",
   "id": "imported-helicopter",
   "metadata": {},
   "source": [
    "This is a very rough first draft at importing and cleansing the data. \n",
    "Solution is heavily inspired by https://gist.github.com/mbforbes/cee3fd5bb3a797b059524fe8c8ccdc2b"
   ]
  },
  {
   "cell_type": "markdown",
   "id": "sought-disposal",
   "metadata": {},
   "source": [
    "### Getting the content\n"
   ]
  },
  {
   "cell_type": "markdown",
   "id": "irish-habitat",
   "metadata": {},
   "source": [
    "Start by downloading the repository of (english) books. This is done in bash. Only tested on Ubuntu, but mac should work the same\n",
    "\n",
    "```\n",
    "wget -m -H -nd \"http://www.gutenberg.org/robot/harvest?filetypes[]=txt&langs[]=en\"\n",
    "\n",
    "                http://www.gutenberg.org/robot/harvest?offset=40532&filetypes[]=txt&langs[]=en\n",
    "```\n",
    "Takes a few hours to run, and is stored in a folder called rawContent. \n",
    "This is then copied to another folder, and we can start to clean up the mess\n",
    "\n",
    "First we delete some dublications of the same books:\n",
    "```\n",
    "ls | grep \"\\-8.zip\" | xargs rm\n",
    "ls | grep \"\\-0.zip\" | xargs rm\n",
    "```\n",
    "We can then unzip the files, and remove the zip files\n",
    "```\n",
    "unzip \"*zip\"\n",
    "rm *.zip\n",
    "```\n",
    "\n",
    "Next we take care of some nested foldering\n",
    "```\n",
    "mv */*.txt ./\n",
    "```\n",
    "And finally, we remove all rubbish that isn't a real book:\n",
    "\n",
    "```\n",
    "ls | grep -v \"\\.txt\" | xargs rm -rf\n",
    "```"
   ]
  },
  {
   "cell_type": "markdown",
   "id": "amended-marker",
   "metadata": {},
   "source": [
    "### Data Cleansing"
   ]
  },
  {
   "cell_type": "markdown",
   "id": "acute-nation",
   "metadata": {},
   "source": [
    "#### Read a single file"
   ]
  },
  {
   "cell_type": "code",
   "execution_count": 85,
   "id": "uniform-enhancement",
   "metadata": {},
   "outputs": [],
   "source": [
    "def read_file(file_name):\n",
    "    file = open(file_name, encoding=\"ISO-8859-1\")\n",
    "    file_content = file.read()\n",
    "\n",
    "    lines = file_content.splitlines()\n",
    "    sep = str(os.linesep)\n",
    "\n",
    "    # Initialize results for single book\n",
    "    content_lines = []\n",
    "    i = 0\n",
    "    footer_found = False\n",
    "    ignore_section = False\n",
    "\n",
    "    title = \"\"\n",
    "    author = \"\"\n",
    "    date = \"\"\n",
    "    language = \"\"\n",
    "    encoding = \"\"\n",
    "    year = 0\n",
    "\n",
    "    # Reset flags for each book\n",
    "    title_found = False\n",
    "    author_found = False\n",
    "    date_found = False\n",
    "    language_found = False\n",
    "    encoding_found = False\n",
    "\n",
    "    for line in lines:\n",
    "            reset = False\n",
    "\n",
    "            #print(line)\n",
    "            if i <= 600:\n",
    "                # Shamelessly stolen\n",
    "                if any(line.startswith(token) for token in TEXT_START_MARKERS):\n",
    "                    reset = True\n",
    "\n",
    "                # Extract Metadata\n",
    "                if title_found == False:\n",
    "                    if any(line.startswith(token) for token in TITLE_MARKERS):\n",
    "                        title_found = True\n",
    "                        title = line\n",
    "                if author_found == False:\n",
    "                    if any(line.startswith(token) for token in AUTHOR_MARKERS):\n",
    "                        author_found = True\n",
    "                        author = line\n",
    "                if date_found == False:\n",
    "                    if any(line.startswith(token) for token in DATE_MARKERS):\n",
    "                        date_found = True\n",
    "                        date = line\n",
    "                        year = int(re.findall(r'\\d{4}', date)[0])\n",
    "                if language_found == False:\n",
    "                    if any(line.startswith(token) for token in LANGUAGE_MARKERS):\n",
    "                        language_found = True\n",
    "                        language = line\n",
    "                if encoding_found == False:\n",
    "                    if any(line.startswith(token) for token in ENCODING_MARKERS):\n",
    "                        encoding_found = True\n",
    "                        encoding = line\n",
    "\n",
    "                # More theft from above\n",
    "                if reset:\n",
    "                    content_lines = []\n",
    "                    continue\n",
    "\n",
    "            # I feel like a criminal by now. Guess what? Also stolen\n",
    "            if i >= 100:\n",
    "                if any(line.startswith(token) for token in TEXT_END_MARKERS):\n",
    "                    footer_found = True\n",
    "\n",
    "                if footer_found:\n",
    "                    break\n",
    "\n",
    "            if any(line.startswith(token) for token in LEGALESE_START_MARKERS):\n",
    "                ignore_section = True\n",
    "                continue\n",
    "            elif any(line.startswith(token) for token in LEGALESE_END_MARKERS):\n",
    "                ignore_section = False\n",
    "                continue\n",
    "\n",
    "            if not ignore_section:\n",
    "                if line != \"\": # Screw the blank lines\n",
    "                    content_lines.append(line.rstrip(sep))\n",
    "                i += 1\n",
    "\n",
    "            sep.join(content_lines)\n",
    "\n",
    "    # Do more cleaning\n",
    "    for token in TITLE_MARKERS:\n",
    "        title = title.replace(token, '').lstrip().rstrip()\n",
    "    for token in AUTHOR_MARKERS:\n",
    "        author = author.replace(token, '').lstrip().rstrip()\n",
    "    for token in LANGUAGE_MARKERS:\n",
    "        language = language.replace(token, '').lstrip().rstrip()\n",
    "    for token in DATE_MARKERS:\n",
    "        date = date.replace(token, '').lstrip().rstrip()\n",
    "    for token in ENCODING_MARKERS:\n",
    "        encoding = encoding.replace(token, '').lstrip().rstrip()\n",
    "    return title, author, date, year, language, encoding, content_lines"
   ]
  },
  {
   "cell_type": "markdown",
   "id": "crucial-stuff",
   "metadata": {},
   "source": [
    "#### Return list of all words\n",
    "Currently quite an empty function. However, I assume that some cleaning of cases etc. will be done here"
   ]
  },
  {
   "cell_type": "code",
   "execution_count": 86,
   "id": "continental-geneva",
   "metadata": {},
   "outputs": [],
   "source": [
    "def get_words(content_lines):\n",
    "    all_text_lower = \" \".join(content_lines).lower()\n",
    "    words = re.findall(r'(\\b[A-Za-z][a-z]{2,9}\\b)', all_text_lower)\n",
    "\n",
    "    # Do more cleansing. E.g. cases and stuff\n",
    "    \n",
    "    return words"
   ]
  },
  {
   "cell_type": "markdown",
   "id": "straight-receipt",
   "metadata": {},
   "source": [
    "## Statistics"
   ]
  },
  {
   "cell_type": "markdown",
   "id": "mechanical-anger",
   "metadata": {},
   "source": [
    "### First attempt\n",
    "Trying a simple word frequency"
   ]
  },
  {
   "cell_type": "code",
   "execution_count": 87,
   "id": "overall-insertion",
   "metadata": {},
   "outputs": [],
   "source": [
    "def get_word_frequencies(words):\n",
    "    frequency = {}\n",
    "    for word in words:\n",
    "        count = frequency.get(word,0)\n",
    "        frequency[word] = count + 1\n",
    "\n",
    "    word_count = len(words)\n",
    "    unique_word_count = 0\n",
    "    word_list = []\n",
    "    word_list_count = []\n",
    "    for key, value in reversed(sorted(frequency.items(), key = itemgetter(1))):\n",
    "        word_list.append(key)\n",
    "        word_list_count.append(value)\n",
    "        unique_word_count = unique_word_count + 1\n",
    "    \n",
    "    word_list_freq = [freq / word_count for freq in word_list_count]\n",
    "    \n",
    "    word_freq = pd.DataFrame(list(zip(word_list, word_list_count, word_list_freq))\n",
    "                             , columns = ['Word', 'count', 'freq'])\n",
    "    \n",
    "    word_freq['rank'] = word_freq['count'].rank(ascending = False, method=\"dense\")\n",
    "\n",
    "    return(word_freq, unique_word_count)"
   ]
  },
  {
   "cell_type": "markdown",
   "id": "shared-saskatchewan",
   "metadata": {},
   "source": [
    "### Read all files, and do preprocessing\n",
    "Well... Only five files currently"
   ]
  },
  {
   "cell_type": "code",
   "execution_count": null,
   "id": "unusual-learning",
   "metadata": {},
   "outputs": [],
   "source": [
    "# Get all filenames\n",
    "files = [f for f in listdir(file_path) if isfile(join(file_path, f))]\n",
    "files = list(filter(lambda file: file[0].isdigit(), files))\n",
    "random.shuffle(files)\n",
    "\n",
    "\n",
    "# Do only subset\n",
    "files = files[0:500]\n",
    "\n",
    "list_of_file = []\n",
    "list_of_title = []\n",
    "list_of_author = []\n",
    "list_of_date = []\n",
    "list_of_year = []\n",
    "list_of_language = []\n",
    "list_of_encoding = []\n",
    "list_of_word_count = []\n",
    "list_of_unique_word_count = []\n",
    "list_of_word_frequencies = []\n",
    "iter_ = 0\n",
    "\n",
    "for file in files:\n",
    "    #print(\"FILENAME:\" + file)\n",
    "    # Read in basic information from file\n",
    "    title, author, date, year, language, encoding, content_lines = read_file(file_path + \"/\" + file)\n",
    "    line_count = len(content_lines)\n",
    "\n",
    "    # Not sure if we want this for later:\n",
    "    #content_all = \" \".join(content_lines)\n",
    "    \n",
    "    # Split into words (and do various cleaning)\n",
    "    words = get_words(content_lines)\n",
    "    word_count = len(words)\n",
    "\n",
    "    # First analysis, but should do something proper\n",
    "    word_frequencies_table, unique_word_count = get_word_frequencies(words)\n",
    "\n",
    "    \n",
    "    # Append to results\n",
    "    list_of_file.append(file)\n",
    "    list_of_title.append(title)\n",
    "    list_of_author.append(author)\n",
    "    list_of_date.append(date)\n",
    "    list_of_year.append(year)\n",
    "    list_of_language.append(language)\n",
    "    list_of_encoding.append(encoding)\n",
    "    list_of_word_count.append(word_count)\n",
    "    list_of_unique_word_count.append(unique_word_count)\n",
    "    list_of_word_frequencies.append(word_frequencies_table)\n",
    "    \n",
    "    \n",
    "    # Show basic information\n",
    "    #print(iter_)\n",
    "    iter_ = iter_ + 1\n",
    "    #print(\"################################\")\n",
    "    #print(\"################################\")\n",
    "    #print(\"Filename: \" + str(file))\n",
    "    #print(\"Title: \" + str(title))\n",
    "    #print(\"Author(s): \" + str(author))\n",
    "    #print(\"Date: \" + str(date))\n",
    "    #print(\"Year: \" + str(year))\n",
    "    #print(\"Language: \" + str(language))\n",
    "    #print(\"Encoding: \" + str(encoding))\n",
    "    #print(\"################################\")\n",
    "    #print(\"Words in book: \" + str(word_count))\n",
    "    #print(\"Unique words in book: \" + str(unique_word_count))\n",
    "    #print(\"################################\")\n",
    "    #print(word_frequencies_table)\n",
    "\n",
    "# Feel free to change to dict? list? separate files?\n",
    "## nested dataframes works, but looks super ungly when printing\n",
    "### Fuck it - This is tooo useless killing it again\n",
    "#all_res = pd.DataFrame(list(zip(list_of_file\n",
    "#                                , list_of_title\n",
    "#                                , list_of_author\n",
    "#                                , list_of_date\n",
    "#                                , list_of_language\n",
    "#                                , list_of_encoding\n",
    "#                                , list_of_word_count\n",
    "#                                , list_of_unique_word_count\n",
    "#                                , list_of_word_frequencies\n",
    "#                                ))\n",
    "#                             , columns = ['file'\n",
    "#                                          , 'title'\n",
    "#                                          , 'author'\n",
    "#                                          , 'date'\n",
    "#                                          , 'language'\n",
    "#                                          , 'encoding'\n",
    "#                                          , 'word_count'\n",
    "#                                          , 'unique_word_count'\n",
    "#                                          , 'word_frequencies'\n",
    "#                                         ]\n",
    "#                      )\n",
    "                "
   ]
  },
  {
   "cell_type": "markdown",
   "id": "extraordinary-skiing",
   "metadata": {},
   "source": [
    "### Compare Word ranking between titles"
   ]
  },
  {
   "cell_type": "code",
   "execution_count": null,
   "id": "opening-insulation",
   "metadata": {},
   "outputs": [],
   "source": [
    "list_count= []\n",
    "list_freq = []\n",
    "list_rank = []\n",
    "\n",
    "\n",
    "col_names = list_of_title.copy()\n",
    "col_names.insert(0,'Word')\n",
    "\n",
    "for df in list_of_word_frequencies:\n",
    "    list_count.append(df[['Word', 'count']])\n",
    "    list_freq.append(df[['Word', 'freq']])\n",
    "    list_rank.append(df[['Word', 'rank']])\n",
    "    \n",
    "df_count = reduce(lambda left, right: pd.merge(left, right, on=\"Word\", how='outer'), list_count)\n",
    "df_count.columns = col_names\n",
    "df_count['Sum'] = df_count.drop('Word', axis=1).apply(lambda x: x.sum(), axis=1)\n",
    "df_count = df_count.sort_values(ascending = False, by=['Sum'])\n",
    "\n",
    "df_freq = reduce(lambda left, right: pd.merge(left, right, on=\"Word\", how='outer'), list_freq)\n",
    "df_freq.columns = col_names\n",
    "df_freq['Avg'] = df_freq.drop('Word', axis=1).apply(lambda x: x.mean(), axis=1)\n",
    "df_freq = df_freq.sort_values(ascending = False, by=['Avg'])\n",
    "\n",
    "df_rank = reduce(lambda left, right: pd.merge(left, right, on=\"Word\", how='outer'), list_rank)\n",
    "df_rank.columns = col_names\n",
    "df_rank['Avg'] = df_rank.drop('Word', axis=1).apply(lambda x: x.mean(), axis=1)\n",
    "df_rank = df_rank.sort_values(by=['Avg'])\n"
   ]
  },
  {
   "cell_type": "code",
   "execution_count": null,
   "id": "maritime-transcript",
   "metadata": {},
   "outputs": [],
   "source": [
    "df_rank.head(30)"
   ]
  },
  {
   "cell_type": "code",
   "execution_count": null,
   "id": "french-stamp",
   "metadata": {},
   "outputs": [],
   "source": [
    "#df_freq['Avg'] = df_freq.drop('Word', axis=1).apply(lambda x: x.mean(), axis=1)\n",
    "df_freq = df_freq.sort_values(ascending = False, by=['Avg'])\n",
    "\n",
    "df_freq.head(20)"
   ]
  },
  {
   "cell_type": "code",
   "execution_count": null,
   "id": "hollywood-pharmaceutical",
   "metadata": {},
   "outputs": [],
   "source": [
    "df_count.head(20)"
   ]
  },
  {
   "cell_type": "markdown",
   "id": "level-airport",
   "metadata": {},
   "source": [
    "## Second testing"
   ]
  },
  {
   "cell_type": "markdown",
   "id": "silver-chess",
   "metadata": {},
   "source": [
    "This definately needs some proper refactoring, but Was curious whether we get anything decent from reading a bunch of random books in\n",
    "\n",
    "Requires an additional folder \"decades\" in the root directory\n",
    "\n",
    "**Edit:** Don't know which file it failed at, and too tired to care right now... Got a small GB before crashing; should be plenty for the first test"
   ]
  },
  {
   "cell_type": "code",
   "execution_count": null,
   "id": "processed-walter",
   "metadata": {},
   "outputs": [],
   "source": [
    "# Get all filenames\n",
    "files = [f for f in listdir(file_path) if isfile(join(file_path, f))]\n",
    "\n",
    "# Do only subset\n",
    "files = files[0:5000]\n",
    "\n",
    "counter = 0\n",
    "for file in files:\n",
    "    counter = counter + 1\n",
    "    #print(str(counter) + \": FILENAME:\" + file)\n",
    "    # Read in basic information from file\n",
    "    title, author, date, year, language, encoding, content_lines = read_file(file_path + \"/\" + file)\n",
    "    #line_count = len(content_lines)\n",
    "    decade = math.floor(year / 10) * 10\n",
    "    decade_file = \"decades/\" + str(decade) + \".txt\"\n",
    "    # Not sure if we want this for later:\n",
    "    content_all = \" \".join(content_lines)\n",
    "    \n",
    "    if os.path.exists(decade_file):\n",
    "        append_write = 'a' # append if already exists\n",
    "    else:\n",
    "        append_write = 'w' # make a new file if not\n",
    "\n",
    "    fileWriter = open(decade_file,append_write)\n",
    "    fileWriter.write(content_all + '\\n')\n",
    "    fileWriter.close()"
   ]
  },
  {
   "cell_type": "code",
   "execution_count": null,
   "id": "spanish-netscape",
   "metadata": {},
   "outputs": [],
   "source": [
    "# Get all filenames\n",
    "files = [f for f in listdir(\"decades\") if isfile(join(\"decades\", f))]\n",
    "print(files)\n",
    "files.sort(reverse=True)\n",
    "\n",
    "\n",
    "col_names = []\n",
    "col_names.append(\"Word\")\n",
    "\n",
    "tables = []\n",
    "\n",
    "for file_name in files:\n",
    "    print(file_name)\n",
    "    \n",
    "    file = open(\"decades/\" + file_name, encoding=\"ISO-8859-1\")\n",
    "    file_content = file.read()\n",
    "    \n",
    "    # Split into words (and do various cleaning)\n",
    "    all_text_lower = file_content.lower()\n",
    "    words = re.findall(r'(\\b[A-Za-z][a-z]{2,9}\\b)', all_text_lower)\n",
    "\n",
    "    # First analysis, but should do something proper\n",
    "    word_frequencies_table, unique_word_count = get_word_frequencies(words)\n",
    "    tables.append(word_frequencies_table)\n",
    "    col_names.append(file_name)"
   ]
  },
  {
   "cell_type": "code",
   "execution_count": null,
   "id": "described-cleaner",
   "metadata": {},
   "outputs": [],
   "source": [
    "list_count= []\n",
    "list_freq = []\n",
    "list_rank = []\n",
    "\n",
    "\n",
    "\n",
    "for df in tables:\n",
    "    #list_count.append(df[['Word', 'count']])\n",
    "    #list_freq.append(df[['Word', 'freq']])\n",
    "    list_rank.append(df[['Word', 'rank']])\n",
    "    \n",
    "#df_count = reduce(lambda left, right: pd.merge(left, right, on=\"Word\", how='outer'), list_count)\n",
    "#df_count.columns = col_names\n",
    "\n",
    "#df_freq = reduce(lambda left, right: pd.merge(left, right, on=\"Word\", how='outer'), list_freq)\n",
    "#df_freq.columns = col_names\n",
    "\n",
    "df_rank = reduce(lambda left, right: pd.merge(left, right, on=\"Word\", how='outer'), list_rank)\n",
    "df_rank.columns = col_names\n"
   ]
  },
  {
   "cell_type": "code",
   "execution_count": null,
   "id": "portable-stylus",
   "metadata": {},
   "outputs": [],
   "source": [
    "df_rank.head(100)"
   ]
  },
  {
   "cell_type": "markdown",
   "id": "bored-blanket",
   "metadata": {},
   "source": [
    "Ngrams, Zipf's law... alright\n",
    "Model idea: https://www.quora.com/Can-NLTK-be-used-for-multinomial-Naive-Bayes-classification"
   ]
  },
  {
   "cell_type": "code",
   "execution_count": null,
   "id": "increasing-restoration",
   "metadata": {},
   "outputs": [],
   "source": [
    "file_contents = []\n",
    "targets = []\n",
    "\n",
    "files = [f for f in listdir(file_path) if isfile(join(file_path, f))]\n",
    "files = list(filter(lambda file: file[0].isdigit(), files))\n",
    "random.shuffle(files)\n",
    "\n",
    "targets_=['70','80','90','00','10']\n",
    "iter_ = 0\n",
    "\n",
    "for f in files[:120]:\n",
    "    file = open(\"processedData/\" + f, encoding=\"ISO-8859-1\")\n",
    "    file_contents.append(file.read())\n",
    "    iter_ = iter_+1\n",
    "    targets.append(targets_[iter_%5])"
   ]
  },
  {
   "cell_type": "code",
   "execution_count": null,
   "id": "mature-fairy",
   "metadata": {},
   "outputs": [],
   "source": [
    "pipeline = Pipeline([\n",
    "    ('vect', CountVectorizer()),\n",
    "    ('tfidf', TfidfTransformer()),\n",
    "    ('kbest', SelectKBest(chi2, k=100)),\n",
    "    ('nb', MultinomialNB()),\n",
    "])\n",
    "\n",
    "parameters = {\n",
    "    #'vect__max_df': [1.0),\n",
    "    # 'vect__max_features': (None, 5000, 10000, 50000),\n",
    "    #'vect__ngram_range': ((1, 1), (1, 2)),  # unigrams or bigrams\n",
    "    # 'tfidf__use_idf': (True, False),\n",
    "    # 'tfidf__norm': ('l1', 'l2'),\n",
    "    #'clf__max_iter': (20),\n",
    "    #'clf__alpha': (0.00001),\n",
    "    #'clf__penalty': ('l2'),\n",
    "    # 'clf__max_iter': (10, 50, 80),\n",
    "}\n",
    "\n",
    "grid_search = GridSearchCV(pipeline, parameters, verbose=1)\n",
    "\n",
    "grid_search.fit(file_contents, targets)\n",
    "best_parameters = grid_search.best_estimator_.get_params()\n",
    "\n",
    "for param_name in sorted(parameters.keys()):\n",
    "    print(\"\\t%s: %r\" % (param_name, best_parameters[param_name]))"
   ]
  },
  {
   "cell_type": "markdown",
   "id": "federal-buying",
   "metadata": {},
   "source": [
    "## Realisation and conclusion"
   ]
  },
  {
   "cell_type": "markdown",
   "id": "acute-decrease",
   "metadata": {},
   "source": [
    "At this point, we came to the conclusion that \"year\" in the Gutenberg dataset shows when the data **was published** to the project, and not the release date of the book.\n",
    "\n",
    "We searched for possible solutions to get the years for book publications, but were unable to find any free API that we could link to our current dataset.\n",
    "\n",
    "We therefore went on a search for other datasets, and to remake our hypothesis entirely.\n",
    "Thus, this part ended in a blind spot. However science is not only about the results, but also about the discoveries along the way, and therefore it is added into this file."
   ]
  },
  {
   "cell_type": "markdown",
   "id": "cultural-matter",
   "metadata": {},
   "source": [
    "# Studying language change in Icelandic parliamentary speeches\n",
    "\n",
    "Our task involves research into language change over the past 100 years. Additionally we have been tasked with working out factors that influence language change. \n",
    "\n",
    "Another proposed research question involves figuring out which languages are going extinct. This particular task has been found out to be near impossible to answer given the available data. It is estimated to be very hard to come up with data that capture the amount of speakers for a large enough ranges of combinations of language and year. Furthermore, any data that are available are likely to apply a different definition of \"speaker\" (sometimes including second/third... language speakers, sometimes not) and is also likely to contain politically motivated noise."
   ]
  },
  {
   "cell_type": "markdown",
   "id": "developmental-player",
   "metadata": {},
   "source": [
    "## Introduction"
   ]
  },
  {
   "cell_type": "markdown",
   "id": "standing-closing",
   "metadata": {},
   "source": [
    "Therefore we decided to search for English language corpora containing a wide array of text documents collected over the past century for predefined dialects of English and genre of text (movie, articles, books, ...). This surprisingly turned out to be a complex endeavour as all high quality corpora were available only for a big price tag. \n",
    "\n",
    "We also looked into the material provided by the Guttenberg Project [Link](https://www.projekt-gutenberg.org/). This turned out to be promising at first sight as it appears that there is a lot of recently published material. However release date of these documents does not match the year when the documents were actually written and soon enough we figured out that all material is from before 1923. This obviously did not allow us to look much into language change of the 20th and 21st century.\n",
    "\n",
    "_Gerlach, M., & Font-Clos, F. (2020). A standardized Project Gutenberg corpus for statistical analysis of natural language and quantitative linguistics. Entropy, 22(1), 126._\n",
    "\n",
    "Theoretically one could obtain books from after 1923 and include them into the analysis. But one would quickly run into copyright/licensing issues here.\n",
    "\n",
    "Obtaining the content of these books and preprocessing them for the purposes of data analysis turned out to be quite cumbersome as well. Look at Gunnar's notebooks (first draft [here](firstDraft.ipynb), second draft [here](secondDraft.ipynb)) for the details. \n",
    "\n",
    "Finally we turned to looking for non-English corpora and found an annotated corpus including pre-factured lemmatization of [Icelandic parlimentary speeches](https://clarin.is/en/resources/parliament/) from 1911 until 2018:\n",
    "\n",
    "_Steingrímsson, Steinþór, Sigrún Helgadóttir, Eiríkur Rögnvaldsson, Starkaður Barkarson and Jón Guðnason. 2018. Risamálheild: A Very Large Icelandic Text Corpus. Proceedings of LREC 2018, pp. 4361-4366. Myazaki, Japan._"
   ]
  },
  {
   "cell_type": "markdown",
   "id": "intense-kitty",
   "metadata": {},
   "source": [
    "## Setup"
   ]
  },
  {
   "cell_type": "markdown",
   "id": "boolean-democracy",
   "metadata": {},
   "source": [
    "### Load required libraries"
   ]
  },
  {
   "cell_type": "code",
   "execution_count": 1,
   "id": "interstate-determination",
   "metadata": {},
   "outputs": [],
   "source": [
    "import pandas as pd\n",
    "import numpy as np\n",
    "import xml.etree.ElementTree as ET\n",
    "\n",
    "import glob\n",
    "\n",
    "from nltk.probability import FreqDist\n",
    "import random\n",
    "\n",
    "from functools import reduce\n",
    "\n",
    "from nltk import ngrams\n",
    "\n",
    "# Used for building models for classifying:\n",
    "from pprint import pprint\n",
    "from time import time\n",
    "import logging\n",
    "from sklearn.feature_extraction.text import CountVectorizer\n",
    "from sklearn.linear_model import SGDClassifier, LogisticRegression\n",
    "from sklearn.naive_bayes import MultinomialNB\n",
    "from sklearn.metrics import make_scorer, accuracy_score\n",
    "from sklearn.model_selection import GridSearchCV\n",
    "from sklearn.pipeline import Pipeline\n",
    "from sklearn.svm import SVC\n",
    "from sklearn.preprocessing import StandardScaler\n",
    "from sklearn.tree import DecisionTreeClassifier\n",
    "from sklearn.ensemble import RandomForestClassifier\n",
    "from sklearn.feature_extraction.text import TfidfVectorizer\n",
    "from sklearn.base import BaseEstimator\n",
    "from sklearn.metrics import accuracy_score\n",
    "from sklearn.metrics import f1_score\n",
    "from sklearn.metrics import recall_score\n",
    "from sklearn.metrics import precision_score\n",
    "from sklearn.metrics import confusion_matrix\n",
    "from sklearn.feature_selection import SelectKBest, chi2\n",
    "from sklearn.svm import SVC\n",
    "from sklearn.ensemble import RandomForestClassifier\n",
    "import matplotlib.pyplot as plt\n",
    "\n",
    "from gensim.models import Word2Vec\n",
    "\n",
    "from gensim.models import Doc2Vec\n",
    "from gensim.models.doc2vec import TaggedDocument\n",
    "\n",
    "from sklearn.metrics import plot_confusion_matrix"
   ]
  },
  {
   "cell_type": "code",
   "execution_count": 2,
   "id": "median-atmosphere",
   "metadata": {},
   "outputs": [],
   "source": [
    "namespace = \"{http://www.tei-c.org/ns/1.0}\""
   ]
  },
  {
   "cell_type": "markdown",
   "id": "enhanced-tomorrow",
   "metadata": {},
   "source": [
    "### Get the data\n",
    "\n",
    "Download data from here: http://www.malfong.is/index.php?dlid=81&lang=en\n",
    "\n",
    "Then extract zip folder such that a folder labelled `CC_BY` shows up in the parent folder of this notebook. *Test*: `ls ../CC_BY/althingi` should work when run from `.../IcelandicParliamentSpeeches.ipynb`."
   ]
  },
  {
   "cell_type": "markdown",
   "id": "compatible-gasoline",
   "metadata": {},
   "source": [
    "### Preprocessing helpers\n",
    "\n",
    "The data are available as XML. The text has already been preprocessed to be separated into paragraphs, sentences and words. Furthermore each word tag also includes a `lemma` attribute relating inflected/declensed forms of words to its lemma. This has been done by the authors of the original paper using Machine Learning approaches."
   ]
  },
  {
   "cell_type": "markdown",
   "id": "underlying-broadcast",
   "metadata": {},
   "source": [
    "Given a relative path to a file, pull out a list with all the words. This can be achieved by looking for all tags of type `w`, additionally also retrieve the lemma for each word.\n",
    "\n",
    "We will discard all sentences of length 3 or smaller to remove noise and to avoid that our models are able to detect year of speech just based on some short introductory/outro phrases. Furthermore the raw data appear to contain plenty of elements tagged as words that comprise of just a single letter followed by a dot. These will be removed here as well.\n",
    "\n",
    "⚠️ *Pitfall*: The namespace from above must be included when parsing out content from these XML files based on tag names.\n",
    "\n",
    "⚠️ In this kind of preprocessing we lose information about sentence boundaries as all punctuation items from the raw data are dropped."
   ]
  },
  {
   "cell_type": "code",
   "execution_count": 3,
   "id": "interior-shipping",
   "metadata": {},
   "outputs": [],
   "source": [
    "def extract_words(path):\n",
    "    xml_tree = ET.parse(open(path, 'r', encoding=\"utf8\"))\n",
    "    words = []\n",
    "    lemmata = []\n",
    "    \n",
    "    for sentence in xml_tree.getroot().iter('{}s'.format(namespace)):\n",
    "        words_in_sent = sentence.findall('{}w'.format(namespace))\n",
    "        if len(words_in_sent) > 2:\n",
    "            for word in sentence.findall('{}w'.format(namespace)):\n",
    "                if not word.text.endswith('.'):\n",
    "                    words.append(word.text)\n",
    "                    lemmata.append(word.attrib['lemma'])\n",
    "        \n",
    "    return words, lemmata"
   ]
  },
  {
   "cell_type": "markdown",
   "id": "photographic-attribute",
   "metadata": {},
   "source": [
    "Extract content of files separated into sentences, note that all stop items are wrapped in a `p` tag in the original documents and are not included here.\n",
    "\n",
    "Also note that some further pre-processing could be done here to exclude items such as numbers, percentages, names, abbreviations, etc. In the original documents these are also assigned to be words:"
   ]
  },
  {
   "cell_type": "code",
   "execution_count": 4,
   "id": "grateful-looking",
   "metadata": {},
   "outputs": [],
   "source": [
    "def extract_sentences(path, lemma=False):\n",
    "    xml_tree = ET.parse(open(path, 'r', encoding=\"utf8\"))\n",
    "    sentences = []\n",
    "    \n",
    "    for sentence in xml_tree.getroot().iter('{}s'.format(namespace)):\n",
    "        sentence_cur = []\n",
    "        words_in_sent = sentence.findall('{}w'.format(namespace))\n",
    "        \n",
    "        if len(words_in_sent) > 2:\n",
    "            for word in sentence.findall('{}w'.format(namespace)):\n",
    "                if not word.text.endswith('.'):\n",
    "                    if lemma:\n",
    "                        sentence_cur.append(word.attrib['lemma'])\n",
    "                    else:\n",
    "                        sentence_cur.append(word.text)\n",
    "            \n",
    "            sentences.append(sentence_cur)\n",
    "        \n",
    "    return sentences"
   ]
  },
  {
   "cell_type": "markdown",
   "id": "latter-terminology",
   "metadata": {},
   "source": [
    "Retrieve a random selection of `k` file names from the entire corpus. The files must be of type `xml`. This method does not load the entire corpus into memory and allows you to work with smaller selections for test purposes. This method samples only from the `althingi` folder so far:"
   ]
  },
  {
   "cell_type": "code",
   "execution_count": 5,
   "id": "interstate-baseline",
   "metadata": {},
   "outputs": [],
   "source": [
    "def get_random_sample(k):\n",
    "    files = [filename for filename in glob.iglob('../CC_BY/althingi/**/*.xml', \n",
    "                                                 recursive=True)]\n",
    "    return random.sample(files, k)"
   ]
  },
  {
   "cell_type": "markdown",
   "id": "searching-arizona",
   "metadata": {},
   "source": [
    "Do the same as above but choose `k` files only from a given year (range: 1911-2017)"
   ]
  },
  {
   "cell_type": "code",
   "execution_count": 6,
   "id": "senior-appeal",
   "metadata": {},
   "outputs": [],
   "source": [
    "def get_files_for_year(year, k):\n",
    "    files = [filename for filename in glob.iglob('../CC_BY/althingi/{}/'.format(year) + '**/*.xml', \n",
    "                                                 recursive=True)]\n",
    "    return random.sample(files, min(len(files), k))"
   ]
  },
  {
   "cell_type": "markdown",
   "id": "south-spyware",
   "metadata": {},
   "source": [
    "## Preliminary Data Analysis\n"
   ]
  },
  {
   "cell_type": "markdown",
   "id": "available-paintball",
   "metadata": {},
   "source": [
    "Doing some basic analysis on the documents in this section."
   ]
  },
  {
   "cell_type": "markdown",
   "id": "limiting-discovery",
   "metadata": {},
   "source": [
    "### Zipf's Law\n",
    "\n",
    "First using frequency distributions of the Natural Language ToolKit (`NLTK`) to look into whether or not we can confirm [Zipf's Law](https://en.wikipedia.org/wiki/Zipf%27s_law) based on the data we have.\n",
    "\n",
    "⚠️ Note that the analysis is done based on 15 randomly selected files from the entire corpus at this point:"
   ]
  },
  {
   "cell_type": "code",
   "execution_count": 7,
   "id": "continent-bradley",
   "metadata": {},
   "outputs": [
    {
     "data": {
      "image/png": "[encoded data removed]",
      "text/plain": [
       "<Figure size 432x288 with 1 Axes>"
      ]
     },
     "metadata": {
      "needs_background": "light"
     },
     "output_type": "display_data"
    },
    {
     "data": {
      "text/plain": [
       "<AxesSubplot:xlabel='Samples', ylabel='Counts'>"
      ]
     },
     "execution_count": 7,
     "metadata": {},
     "output_type": "execute_result"
    }
   ],
   "source": [
    "words = []\n",
    "\n",
    "for file in get_random_sample(15):\n",
    "    words.extend(extract_words(file)[1])\n",
    "    \n",
    "fq = FreqDist(word.lower() for word in words)\n",
    "fq.plot(25, cumulative=False)"
   ]
  },
  {
   "cell_type": "markdown",
   "id": "patent-compiler",
   "metadata": {},
   "source": [
    "Visualizing the same data but with using the logarithm of the occurrences, this should ideally obtain a straight line:"
   ]
  },
  {
   "cell_type": "code",
   "execution_count": 8,
   "id": "entire-company",
   "metadata": {},
   "outputs": [
    {
     "data": {
      "text/plain": [
       "<AxesSubplot:>"
      ]
     },
     "execution_count": 8,
     "metadata": {},
     "output_type": "execute_result"
    },
    {
     "data": {
      "image/png": "[encoded data removed]",
      "text/plain": [
       "<Figure size 432x288 with 1 Axes>"
      ]
     },
     "metadata": {
      "needs_background": "light"
     },
     "output_type": "display_data"
    }
   ],
   "source": [
    "freq_df = pd.DataFrame.from_dict(fq, orient='index', columns=['word_occur'])\n",
    "freq_df.sort_values(by='word_occur', inplace=True, ascending=False)\n",
    "freq_df.word_occur = np.log2(freq_df['word_occur'])\n",
    "freq_df.head(25).plot(kind='line')"
   ]
  },
  {
   "cell_type": "markdown",
   "id": "distinguished-comfort",
   "metadata": {},
   "source": [
    "### Disappearing words / new words"
   ]
  },
  {
   "cell_type": "markdown",
   "id": "optimum-arthritis",
   "metadata": {},
   "source": [
    "Here is a description"
   ]
  },
  {
   "cell_type": "code",
   "execution_count": 9,
   "id": "national-grain",
   "metadata": {},
   "outputs": [],
   "source": [
    "words_1914 = []\n",
    "words_2014 = []\n",
    "\n",
    "for file in get_files_for_year(1914, 25):\n",
    "    words_1914.extend(extract_words(file)[1])\n",
    "    \n",
    "for file in get_files_for_year(2014, 25):\n",
    "    words_2014.extend(extract_words(file)[1])"
   ]
  },
  {
   "cell_type": "markdown",
   "id": "diagnostic-premium",
   "metadata": {},
   "source": [
    "### Development of average sentence length\n",
    "\n",
    "This is just one possible metric for the development/analysis of language complexity. There is so much more you could come up with here.\n",
    "\n",
    "Obviously our choice to discard very short sentences in the preprocessing step has an impact on the values here:"
   ]
  },
  {
   "cell_type": "code",
   "execution_count": 10,
   "id": "blocked-reserve",
   "metadata": {},
   "outputs": [
    {
     "data": {
      "text/plain": [
       "<AxesSubplot:>"
      ]
     },
     "execution_count": 10,
     "metadata": {},
     "output_type": "execute_result"
    },
    {
     "data": {
      "image/png": "[encoded data removed]",
      "text/plain": [
       "<Figure size 432x288 with 1 Axes>"
      ]
     },
     "metadata": {
      "needs_background": "light"
     },
     "output_type": "display_data"
    }
   ],
   "source": [
    "def avg_sentence_length_year(year, k):\n",
    "    sentence_len = []\n",
    "    for file in get_files_for_year(year, k):\n",
    "        sentences = extract_sentences(file)\n",
    "        sentence_len.extend([len(s) for s in sentences])\n",
    "    \n",
    "    return reduce(lambda a, b: a + b, sentence_len) / len(sentence_len)\n",
    "        \n",
    "sentence_len_years = []\n",
    "\n",
    "for year in range(1924, 2018):\n",
    "    sentence_len_years.append(avg_sentence_length_year(year, 20))\n",
    "    \n",
    "avg_df = pd.DataFrame(sentence_len_years, index=range(1924, 2018), columns=['avg_sent_len'])\n",
    "avg_df.plot(kind='line')"
   ]
  },
  {
   "cell_type": "markdown",
   "id": "proper-literature",
   "metadata": {},
   "source": [
    "### n-grams"
   ]
  },
  {
   "cell_type": "markdown",
   "id": "declared-quantity",
   "metadata": {},
   "source": [
    "Here is a description"
   ]
  },
  {
   "cell_type": "code",
   "execution_count": 11,
   "id": "human-terminology",
   "metadata": {},
   "outputs": [
    {
     "data": {
      "image/png": "[encoded data removed]",
      "text/plain": [
       "<Figure size 432x288 with 1 Axes>"
      ]
     },
     "metadata": {
      "needs_background": "light"
     },
     "output_type": "display_data"
    }
   ],
   "source": [
    "def most_common_ngrams(n, top_k, sample):\n",
    "    file_contents = []\n",
    "\n",
    "    for file in get_random_sample(sample):\n",
    "        file_contents.extend(extract_words(file)[1])\n",
    "    \n",
    "    fq_ngr = FreqDist(ngrams(file_contents, n))\n",
    "    fq_ngr.plot(top_k, cumulative=False)\n",
    "    \n",
    "most_common_ngrams(n=3, top_k=25, sample=100)"
   ]
  },
  {
   "cell_type": "markdown",
   "id": "referenced-corrections",
   "metadata": {},
   "source": [
    "## Building model for classifying speeches"
   ]
  },
  {
   "cell_type": "markdown",
   "id": "civic-trial",
   "metadata": {},
   "source": [
    "The idea of this section is as follows:\n",
    "\n",
    "* Import necessary libraries for the implementation of the next steps.\n",
    "* Split the data in two sets: training and test.\n",
    "* Select feature extraction methods to be used.\n",
    "* Select classifiers to be trained.\n",
    "* Train the classifiers using different feature extraction methods and different combination of hyperparameters within the classifiers. Perform a cross-validated grid search for that purpose.\n",
    "* Compare the cross validation results within the trained models and select the best ones."
   ]
  },
  {
   "cell_type": "markdown",
   "id": "saving-judgment",
   "metadata": {},
   "source": [
    "### Constructing training and test data"
   ]
  },
  {
   "cell_type": "markdown",
   "id": "close-interval",
   "metadata": {},
   "source": [
    "⚠️ *So far, we don't have a defined strategy for train-test split. However, we extract some documents to be able to try the models.*\n",
    "\n",
    "⚠️ *We will have to design an appropiate strategy for a train-test split in which we shpuld keep the proportions within each class and so on.*"
   ]
  },
  {
   "cell_type": "markdown",
   "id": "intellectual-coordination",
   "metadata": {},
   "source": [
    "#### Train data"
   ]
  },
  {
   "cell_type": "code",
   "execution_count": 12,
   "id": "announced-framework",
   "metadata": {},
   "outputs": [],
   "source": [
    "#set seed for reproducibility\n",
    "random.seed(123)\n",
    "\n",
    "file_contents = []\n",
    "targets = []\n",
    "\n",
    "#for year in [1914, 1933,1959,1968,1971,1984,1997,2005,  2016]:\n",
    "#    for file in get_files_for_year(year, 20):\n",
    "for year in [1914, 1912, \n",
    "             1933, 1936, 1939, 1938, 1934,\n",
    "             1954, 1955, 1957, 1959, 1956,\n",
    "             1975, 1978, 1972, 1971, 1977,\n",
    "             1992, 1995, 1999, 1997, 1993,\n",
    "             2014, 2015, 2013, 2016, 2012]:\n",
    "    for file in get_files_for_year(year, 100):\n",
    "        file_contents.append(extract_words(file)[1])\n",
    "        targets.append(year - year%10)"
   ]
  },
  {
   "cell_type": "markdown",
   "id": "attempted-acceptance",
   "metadata": {},
   "source": [
    "Let's randomly choose a fixed number of documents (here currently: 5) from various different decades. Then passing (document, decade) pairs to the model below. The decade is computed by subtracting `mod(<year>, 10)` from `<year>`."
   ]
  },
  {
   "cell_type": "markdown",
   "id": "dynamic-roller",
   "metadata": {},
   "source": [
    "#### Test data"
   ]
  },
  {
   "cell_type": "code",
   "execution_count": 13,
   "id": "structural-sending",
   "metadata": {},
   "outputs": [],
   "source": [
    "#seed for reproducibility\n",
    "random.seed(123)\n",
    "\n",
    "file_contents_test = []\n",
    "targets_test = []\n",
    "\n",
    "#for year in [1914, 1936, 1955, 1975, 1995, 2015]:\n",
    "for year in [1911, 1937, 1958, 1973, 1994, 2017]:\n",
    "    for file in get_files_for_year(year, 20):\n",
    "        file_contents_test.append(extract_words(file)[1])\n",
    "        targets_test.append(year - year%10)"
   ]
  },
  {
   "cell_type": "markdown",
   "id": "developmental-stuart",
   "metadata": {},
   "source": [
    "### Text feature extraction"
   ]
  },
  {
   "cell_type": "markdown",
   "id": "active-manual",
   "metadata": {},
   "source": [
    "We have considered 3 different methods for text feature extraction: Tf-idf, word2vec and doc2vec. All of them will be implemented through the corresponding functions from *sklearn* library."
   ]
  },
  {
   "cell_type": "markdown",
   "id": "extreme-friendship",
   "metadata": {},
   "source": [
    "#### TF-IDF"
   ]
  },
  {
   "cell_type": "markdown",
   "id": "usual-dimension",
   "metadata": {},
   "source": [
    "Helper function to transform the data so that it is in the right format for the tfidfVectorizer() function that will be used later on:"
   ]
  },
  {
   "cell_type": "code",
   "execution_count": 15,
   "id": "referenced-prediction",
   "metadata": {},
   "outputs": [],
   "source": [
    "class JoinElement(object):\n",
    "    def fit(self, X, y):\n",
    "        return self\n",
    "\n",
    "    def transform(self, X):\n",
    "        #joins the elements of a list (which represents a document) into a single string \n",
    "        #with a blank space separation between each word\n",
    "        return [' '.join(X[i]) for i in range(len(X))]"
   ]
  },
  {
   "cell_type": "markdown",
   "id": "fancy-orchestra",
   "metadata": {},
   "source": [
    "More information about it: [sklearn documentation.](https://scikit-learn.org/stable/modules/generated/sklearn.naive_bayes.MultinomialNB.html)"
   ]
  },
  {
   "cell_type": "markdown",
   "id": "commercial-lincoln",
   "metadata": {},
   "source": [
    "#### Word2Vec"
   ]
  },
  {
   "cell_type": "markdown",
   "id": "electric-mustang",
   "metadata": {},
   "source": [
    "<ins>Original paper</ins>:\n",
    "Mikolov, T., Sutskever, I., Chen, K., Corrado, G. S., & Dean, J. (2013). Distributed representations of words and phrases and their compositionality. Advances in neural information processing systems, 26, 3111-3119.\n",
    "\n",
    "With this model every word is assigned a unique vector of configurable cardinality such that the dot product of two randomly chosen vectors should be proportional to the semantic similarity for the associated words. This happens during the training step using logistic regression and sliding windows. Personally I found that this video delivers a solid explanation of the concepts: https://www.youtube.com/watch?v=QyrUentbkvw\n",
    "\n",
    "However, since we are working with entire documents as training items we have to somehow aggregate the vectors for every word in a given document. This can be done e.g. by taking the mean and/or summing up the vectors (see `MeanEmbeddingVectorizer`), optionally weighted by TF-IDF (see `MeanEmbeddingVectorizerTfidf`)."
   ]
  },
  {
   "cell_type": "code",
   "execution_count": 16,
   "id": "finite-lightweight",
   "metadata": {},
   "outputs": [],
   "source": [
    "class MeanEmbeddingVectorizer(BaseEstimator):\n",
    "    def fit(self, X, y):\n",
    "        self.word2vec = Word2Vec(X)\n",
    "        return self\n",
    "\n",
    "    def transform(self, X):\n",
    "        return np.array([\n",
    "            np.mean([self.word2vec.wv[w] for w in words if w in self.word2vec.wv.vocab]\n",
    "                    or [np.zeros(self.word2vec.vector_size)], axis=0)\n",
    "            for words in X\n",
    "        ])\n",
    "    \n",
    "    def fit_transform(self, X, y):\n",
    "        self.fit(X, y)\n",
    "        return self.transform(X)"
   ]
  },
  {
   "cell_type": "code",
   "execution_count": 17,
   "id": "criminal-artwork",
   "metadata": {},
   "outputs": [],
   "source": [
    "class MeanEmbeddingVectorizerTfidf(BaseEstimator):\n",
    "    def fit(self, X, y):\n",
    "        self.word2vec = Word2Vec(X)\n",
    "        self.X_joined = [' '.join(X[i]) for i in range(len(X))]\n",
    "        self.vectorizer = TfidfVectorizer()\n",
    "        self.transformed = self.vectorizer.fit_transform(self.X_joined)\n",
    "        self.transformed = pd.DataFrame.sparse.from_spmatrix(self.transformed)\n",
    "        return self\n",
    "    \n",
    "    def tfidf(self, w, docid):\n",
    "        if w in self.vectorizer.vocabulary_:\n",
    "            return self.transformed[self.vectorizer.vocabulary_[w]][docid]\n",
    "        else:\n",
    "            return 0\n",
    "\n",
    "    def transform(self, X):\n",
    "        return np.array([\n",
    "            np.mean([self.word2vec.wv[w] * self.tfidf(w, i) for w in words if w in self.word2vec.wv.vocab]\n",
    "                    or [np.zeros(self.word2vec.vector_size)], axis=0)\n",
    "            for i, words in enumerate(X)\n",
    "        ])\n",
    "    \n",
    "    def fit_transform(self, X, y):\n",
    "        self = self.fit(X, y)\n",
    "        return self.transform(X)"
   ]
  },
  {
   "cell_type": "markdown",
   "id": "precise-pastor",
   "metadata": {},
   "source": [
    "#### Doc2Vec"
   ]
  },
  {
   "cell_type": "markdown",
   "id": "august-confidence",
   "metadata": {},
   "source": [
    "Finally we are attempting to build a model using _Doc2Vec_. After training this model with our training corpus we receive a vector of configurable cardinality for each document.\n",
    "\n",
    "<ins>Original paper</ins>: Le, Quoc, and Tomas Mikolov. \"Distributed representations of sentences and documents.\" International conference on machine learning. 2014."
   ]
  },
  {
   "cell_type": "code",
   "execution_count": 18,
   "id": "skilled-score",
   "metadata": {},
   "outputs": [],
   "source": [
    "class Doc2Vectorizer(BaseEstimator):\n",
    "    def __init__(self, window=2, vector_size=100):\n",
    "        self.window = window\n",
    "        self.vector_size = vector_size\n",
    "        \n",
    "    def fit(self, X, y):\n",
    "        docs = [TaggedDocument(X[i], [y[i]]) for i in range(len(X))]\n",
    "        self.doc_vec = Doc2Vec(docs, vector_size=self.vector_size, window=self.window, min_count=1, workers=4)\n",
    "        return self\n",
    "\n",
    "    def transform(self, X):\n",
    "        return [self.doc_vec.infer_vector(X[i]) for i in range(len(X))]"
   ]
  },
  {
   "cell_type": "markdown",
   "id": "elder-literature",
   "metadata": {},
   "source": [
    "**BERT** (*Bidirectional Encoder Representations from Transformers*) is also interesting to look at, but we'll skip this here because we predict training a model from scratch would use up too many resources. Given more time however you could search for pretrained networks that roughly serve the purpose of classification of documents according to publication year.\n",
    "\n",
    "<ins>Paper</ins>: Devlin, J., Chang, M. W., Lee, K., & Toutanova, K. (2018). Bert: Pre-training of deep bidirectional transformers for language understanding. arXiv preprint arXiv:1810.04805."
   ]
  },
  {
   "cell_type": "markdown",
   "id": "steady-values",
   "metadata": {},
   "source": [
    "### Classifiers"
   ]
  },
  {
   "cell_type": "markdown",
   "id": "uniform-hartford",
   "metadata": {},
   "source": [
    "3 different classifiers are going to be trained: Multinomial Naive Bayes, Support Vector Machines and Random Forest Classifier. All of them will be implemented using sklearn library."
   ]
  },
  {
   "cell_type": "markdown",
   "id": "baking-hypothetical",
   "metadata": {},
   "source": [
    "#### Multinominal Naive Bayes"
   ]
  },
  {
   "cell_type": "markdown",
   "id": "assisted-forwarding",
   "metadata": {},
   "source": [
    "Source: [sklearn documentation.](https://scikit-learn.org/stable/modules/generated/sklearn.naive_bayes.MultinomialNB.html)"
   ]
  },
  {
   "cell_type": "markdown",
   "id": "extended-singles",
   "metadata": {},
   "source": [
    "#### Support Vector Machines"
   ]
  },
  {
   "cell_type": "markdown",
   "id": "burning-lecture",
   "metadata": {},
   "source": [
    "Source: [sklearn documentation.](https://scikit-learn.org/stable/modules/generated/sklearn.naive_bayes.MultinomialNB.html)"
   ]
  },
  {
   "cell_type": "markdown",
   "id": "damaged-mason",
   "metadata": {},
   "source": [
    "#### Random Forest Classifier"
   ]
  },
  {
   "cell_type": "markdown",
   "id": "demographic-thesaurus",
   "metadata": {},
   "source": [
    "Source: [sklearn documentation.](https://scikit-learn.org/stable/modules/generated/sklearn.naive_bayes.MultinomialNB.html)"
   ]
  },
  {
   "cell_type": "markdown",
   "id": "collect-creek",
   "metadata": {},
   "source": [
    "### Train models"
   ]
  },
  {
   "cell_type": "markdown",
   "id": "cutting-functionality",
   "metadata": {},
   "source": [
    "Since there are 3 methods for feature extraction and 3 classifiers, we should train 9 kind of models with their different combinations of hyperparameters. However, multinomial naive bayes does not take negative values produced by Word2Vec and Doc2Vec. Therefore, we have 7.\n",
    "\n",
    "For each model, a grid search is performed with different combinations of hyperparameters for the classifiers and the text extraction methods. Afterwards, the most relevant results of each of the models are stored in a pandas data frame."
   ]
  },
  {
   "cell_type": "markdown",
   "id": "mental-alexandria",
   "metadata": {},
   "source": [
    "#### Model 1: TFIDF vectorizer, select K best and Multinomial Naive Bayes"
   ]
  },
  {
   "cell_type": "code",
   "execution_count": 19,
   "id": "undefined-italic",
   "metadata": {},
   "outputs": [
    {
     "data": {
      "text/html": [
       "<div>\n",
       "<style scoped>\n",
       "    .dataframe tbody tr th:only-of-type {\n",
       "        vertical-align: middle;\n",
       "    }\n",
       "\n",
       "    .dataframe tbody tr th {\n",
       "        vertical-align: top;\n",
       "    }\n",
       "\n",
       "    .dataframe thead th {\n",
       "        text-align: right;\n",
       "    }\n",
       "</style>\n",
       "<table border=\"1\" class=\"dataframe\">\n",
       "  <thead>\n",
       "    <tr style=\"text-align: right;\">\n",
       "      <th></th>\n",
       "      <th>Model</th>\n",
       "      <th>mean_fit_time</th>\n",
       "      <th>mean_score_time</th>\n",
       "      <th>param_MNB__alpha</th>\n",
       "      <th>param_MNB__fit_prior</th>\n",
       "      <th>param_k_best__k</th>\n",
       "      <th>param_k_best__score_func</th>\n",
       "      <th>mean_test_score</th>\n",
       "      <th>rank_test_score</th>\n",
       "    </tr>\n",
       "  </thead>\n",
       "  <tbody>\n",
       "    <tr>\n",
       "      <th>1</th>\n",
       "      <td>1</td>\n",
       "      <td>0.866558</td>\n",
       "      <td>0.192054</td>\n",
       "      <td>0</td>\n",
       "      <td>False</td>\n",
       "      <td>1000</td>\n",
       "      <td>&lt;function chi2 at 0x7f3836c8b040&gt;</td>\n",
       "      <td>0.79</td>\n",
       "      <td>3</td>\n",
       "    </tr>\n",
       "    <tr>\n",
       "      <th>3</th>\n",
       "      <td>1</td>\n",
       "      <td>0.748794</td>\n",
       "      <td>0.178633</td>\n",
       "      <td>0.05</td>\n",
       "      <td>False</td>\n",
       "      <td>1000</td>\n",
       "      <td>&lt;function chi2 at 0x7f3836c8b040&gt;</td>\n",
       "      <td>0.79</td>\n",
       "      <td>1</td>\n",
       "    </tr>\n",
       "    <tr>\n",
       "      <th>5</th>\n",
       "      <td>1</td>\n",
       "      <td>0.753403</td>\n",
       "      <td>0.179902</td>\n",
       "      <td>0.1</td>\n",
       "      <td>False</td>\n",
       "      <td>1000</td>\n",
       "      <td>&lt;function chi2 at 0x7f3836c8b040&gt;</td>\n",
       "      <td>0.79</td>\n",
       "      <td>2</td>\n",
       "    </tr>\n",
       "    <tr>\n",
       "      <th>0</th>\n",
       "      <td>1</td>\n",
       "      <td>0.810029</td>\n",
       "      <td>0.184780</td>\n",
       "      <td>0</td>\n",
       "      <td>True</td>\n",
       "      <td>1000</td>\n",
       "      <td>&lt;function chi2 at 0x7f3836c8b040&gt;</td>\n",
       "      <td>0.77</td>\n",
       "      <td>4</td>\n",
       "    </tr>\n",
       "    <tr>\n",
       "      <th>2</th>\n",
       "      <td>1</td>\n",
       "      <td>0.793854</td>\n",
       "      <td>0.179059</td>\n",
       "      <td>0.05</td>\n",
       "      <td>True</td>\n",
       "      <td>1000</td>\n",
       "      <td>&lt;function chi2 at 0x7f3836c8b040&gt;</td>\n",
       "      <td>0.76</td>\n",
       "      <td>5</td>\n",
       "    </tr>\n",
       "  </tbody>\n",
       "</table>\n",
       "</div>"
      ],
      "text/plain": [
       "  Model  mean_fit_time  mean_score_time param_MNB__alpha param_MNB__fit_prior  \\\n",
       "1     1       0.866558         0.192054                0                False   \n",
       "3     1       0.748794         0.178633             0.05                False   \n",
       "5     1       0.753403         0.179902              0.1                False   \n",
       "0     1       0.810029         0.184780                0                 True   \n",
       "2     1       0.793854         0.179059             0.05                 True   \n",
       "\n",
       "  param_k_best__k           param_k_best__score_func  mean_test_score  \\\n",
       "1            1000  <function chi2 at 0x7f3836c8b040>             0.79   \n",
       "3            1000  <function chi2 at 0x7f3836c8b040>             0.79   \n",
       "5            1000  <function chi2 at 0x7f3836c8b040>             0.79   \n",
       "0            1000  <function chi2 at 0x7f3836c8b040>             0.77   \n",
       "2            1000  <function chi2 at 0x7f3836c8b040>             0.76   \n",
       "\n",
       "   rank_test_score  \n",
       "1                3  \n",
       "3                1  \n",
       "5                2  \n",
       "0                4  \n",
       "2                5  "
      ]
     },
     "metadata": {},
     "output_type": "display_data"
    }
   ],
   "source": [
    "#choose parameters for the different steps in the pipeline\n",
    "parameters_model_1 = {\n",
    "    \n",
    "    #select KBest\n",
    "    \"k_best__k\": [1000],\n",
    "    \"k_best__score_func\": [chi2],\n",
    "    \n",
    "    #MultinomialNaiveBayes\n",
    "    \"MNB__alpha\" : [0,0.05,0.1,0.5,1], \n",
    "    \"MNB__fit_prior\": [True,False]\n",
    "\n",
    "}\n",
    "\n",
    "\n",
    "#build a pipeline\n",
    "model_1_pipeline = Pipeline([\n",
    "        #joins list into a single string\n",
    "        ('join', JoinElement()),\n",
    "        #tfidf vectorizer\n",
    "        ('tfidf', TfidfVectorizer()),\n",
    "        #select 1000 best from word vectors\n",
    "        ('k_best', SelectKBest()),\n",
    "        #apply naive bayes\n",
    "        ('MNB', MultinomialNB())\n",
    "    ])\n",
    "\n",
    "#design grid search\n",
    "grid_search_model_1 = GridSearchCV(\n",
    "    #pipeline to be followed\n",
    "    model_1_pipeline,\n",
    "    #parameters\n",
    "    param_grid=parameters_model_1,\n",
    "    #number of folds for CV\n",
    "    cv=5,\n",
    "    #scoring to be considered for the cv\n",
    "    scoring = \"accuracy\",\n",
    "    #parallelize if possible\n",
    "    n_jobs=-1\n",
    ")\n",
    "\n",
    "#fit the grid search for training data\n",
    "grid_search_model_1.fit(file_contents, targets)\n",
    "\n",
    "#save results of cross validation\n",
    "cv_results_model_1 = pd.DataFrame(grid_search_model_1.cv_results_)\n",
    "\n",
    "#filter columns to be kept in the dataframe\n",
    "filter_col = [col for col in cv_results_model_1 if (col.startswith(\"param_\") or col.startswith(\"mean_\") or col.startswith(\"rank\"))]\n",
    "\n",
    "#save results with only filtered columns\n",
    "cv_results_model_1 = cv_results_model_1[filter_col]\n",
    "\n",
    "#save name of the model for later comparison\n",
    "cv_results_model_1.insert(loc=0, column=\"Model\", value= \"1\")\n",
    "\n",
    "#round mean_test_score\n",
    "cv_results_model_1[\"mean_test_score\"] = cv_results_model_1[\"mean_test_score\"].round(2)\n",
    "\n",
    "#show best 5 sorted by mean_test_score\n",
    "display(cv_results_model_1.sort_values(by=\"mean_test_score\", ascending=False).head(5))"
   ]
  },
  {
   "cell_type": "markdown",
   "id": "continuous-chicken",
   "metadata": {},
   "source": [
    "#### Model 2: TFIDF vectorizer, select K best and SVC"
   ]
  },
  {
   "cell_type": "code",
   "execution_count": 20,
   "id": "noted-visit",
   "metadata": {},
   "outputs": [
    {
     "data": {
      "text/html": [
       "<div>\n",
       "<style scoped>\n",
       "    .dataframe tbody tr th:only-of-type {\n",
       "        vertical-align: middle;\n",
       "    }\n",
       "\n",
       "    .dataframe tbody tr th {\n",
       "        vertical-align: top;\n",
       "    }\n",
       "\n",
       "    .dataframe thead th {\n",
       "        text-align: right;\n",
       "    }\n",
       "</style>\n",
       "<table border=\"1\" class=\"dataframe\">\n",
       "  <thead>\n",
       "    <tr style=\"text-align: right;\">\n",
       "      <th></th>\n",
       "      <th>Model</th>\n",
       "      <th>mean_fit_time</th>\n",
       "      <th>mean_score_time</th>\n",
       "      <th>param_SVC__degree</th>\n",
       "      <th>param_SVC__kernel</th>\n",
       "      <th>param_k_best__k</th>\n",
       "      <th>param_k_best__score_func</th>\n",
       "      <th>mean_test_score</th>\n",
       "      <th>rank_test_score</th>\n",
       "    </tr>\n",
       "  </thead>\n",
       "  <tbody>\n",
       "    <tr>\n",
       "      <th>1</th>\n",
       "      <td>2</td>\n",
       "      <td>1.911231</td>\n",
       "      <td>0.490081</td>\n",
       "      <td>2</td>\n",
       "      <td>poly</td>\n",
       "      <td>1000</td>\n",
       "      <td>&lt;function chi2 at 0x7f3836c8b040&gt;</td>\n",
       "      <td>0.73</td>\n",
       "      <td>1</td>\n",
       "    </tr>\n",
       "    <tr>\n",
       "      <th>0</th>\n",
       "      <td>2</td>\n",
       "      <td>1.906804</td>\n",
       "      <td>0.484731</td>\n",
       "      <td>2</td>\n",
       "      <td>linear</td>\n",
       "      <td>1000</td>\n",
       "      <td>&lt;function chi2 at 0x7f3836c8b040&gt;</td>\n",
       "      <td>0.71</td>\n",
       "      <td>2</td>\n",
       "    </tr>\n",
       "    <tr>\n",
       "      <th>3</th>\n",
       "      <td>2</td>\n",
       "      <td>2.100146</td>\n",
       "      <td>0.483397</td>\n",
       "      <td>3</td>\n",
       "      <td>linear</td>\n",
       "      <td>1000</td>\n",
       "      <td>&lt;function chi2 at 0x7f3836c8b040&gt;</td>\n",
       "      <td>0.71</td>\n",
       "      <td>2</td>\n",
       "    </tr>\n",
       "    <tr>\n",
       "      <th>4</th>\n",
       "      <td>2</td>\n",
       "      <td>1.990765</td>\n",
       "      <td>0.468270</td>\n",
       "      <td>3</td>\n",
       "      <td>poly</td>\n",
       "      <td>1000</td>\n",
       "      <td>&lt;function chi2 at 0x7f3836c8b040&gt;</td>\n",
       "      <td>0.69</td>\n",
       "      <td>4</td>\n",
       "    </tr>\n",
       "    <tr>\n",
       "      <th>2</th>\n",
       "      <td>2</td>\n",
       "      <td>2.199512</td>\n",
       "      <td>0.536915</td>\n",
       "      <td>2</td>\n",
       "      <td>sigmoid</td>\n",
       "      <td>1000</td>\n",
       "      <td>&lt;function chi2 at 0x7f3836c8b040&gt;</td>\n",
       "      <td>0.58</td>\n",
       "      <td>5</td>\n",
       "    </tr>\n",
       "  </tbody>\n",
       "</table>\n",
       "</div>"
      ],
      "text/plain": [
       "  Model  mean_fit_time  mean_score_time param_SVC__degree param_SVC__kernel  \\\n",
       "1     2       1.911231         0.490081                 2              poly   \n",
       "0     2       1.906804         0.484731                 2            linear   \n",
       "3     2       2.100146         0.483397                 3            linear   \n",
       "4     2       1.990765         0.468270                 3              poly   \n",
       "2     2       2.199512         0.536915                 2           sigmoid   \n",
       "\n",
       "  param_k_best__k           param_k_best__score_func  mean_test_score  \\\n",
       "1            1000  <function chi2 at 0x7f3836c8b040>             0.73   \n",
       "0            1000  <function chi2 at 0x7f3836c8b040>             0.71   \n",
       "3            1000  <function chi2 at 0x7f3836c8b040>             0.71   \n",
       "4            1000  <function chi2 at 0x7f3836c8b040>             0.69   \n",
       "2            1000  <function chi2 at 0x7f3836c8b040>             0.58   \n",
       "\n",
       "   rank_test_score  \n",
       "1                1  \n",
       "0                2  \n",
       "3                2  \n",
       "4                4  \n",
       "2                5  "
      ]
     },
     "metadata": {},
     "output_type": "display_data"
    }
   ],
   "source": [
    "#choose parameters for the different steps in the pipeline\n",
    "parameters_model_2 = {\n",
    "    \n",
    "    #select KBest\n",
    "    \"k_best__k\": [1000],\n",
    "    \"k_best__score_func\": [chi2],\n",
    "    \n",
    "    #SVC\n",
    "    \"SVC__kernel\" : [\"linear\", \"poly\", \"sigmoid\"], \n",
    "    \"SVC__degree\": [2,3]\n",
    "\n",
    "}\n",
    "\n",
    "\n",
    "#build a pipeline\n",
    "model_2_pipeline = Pipeline([\n",
    "        #joins list into a single string\n",
    "        ('join', JoinElement()),\n",
    "        #tfidf vectorizer\n",
    "        ('tfidf', TfidfVectorizer()),\n",
    "        #select 1000 best from word vectors\n",
    "        ('k_best', SelectKBest()),\n",
    "        #apply naive bayes\n",
    "        ('SVC', SVC())\n",
    "    ])\n",
    "\n",
    "#design grid search\n",
    "grid_search_model_2 = GridSearchCV(\n",
    "    #pipeline to be followed\n",
    "    model_2_pipeline,\n",
    "    #parameters\n",
    "    param_grid=parameters_model_2,\n",
    "    #number of folds for CV\n",
    "    cv=5,\n",
    "    #scoring to be considered for the cv\n",
    "    scoring = \"accuracy\",\n",
    "    #parallelize if possible\n",
    "    n_jobs=-1\n",
    ")\n",
    "\n",
    "#fit the grid search for training data\n",
    "grid_search_model_2.fit(file_contents, targets)\n",
    "\n",
    "#save results of cross validation\n",
    "cv_results_model_2 = pd.DataFrame(grid_search_model_2.cv_results_)\n",
    "\n",
    "#filter columns to be kept in the dataframe\n",
    "filter_col = [col for col in cv_results_model_2 if (col.startswith(\"param_\") or col.startswith(\"mean_\") or col.startswith(\"rank\"))]\n",
    "\n",
    "#save results with only filtered columns\n",
    "cv_results_model_2 = cv_results_model_2[filter_col]\n",
    "\n",
    "#save name of the model for later comparison\n",
    "cv_results_model_2.insert(loc=0, column=\"Model\", value= \"2\")\n",
    "\n",
    "#round mean_test_score\n",
    "cv_results_model_2[\"mean_test_score\"] = cv_results_model_2[\"mean_test_score\"].round(2)\n",
    "\n",
    "#show best 5 sorted by mean_test_score\n",
    "display(cv_results_model_2.sort_values(by=\"mean_test_score\", ascending=False).head(5))"
   ]
  },
  {
   "cell_type": "markdown",
   "id": "spread-boring",
   "metadata": {},
   "source": [
    "#### Model 3: TFIDF vectorizer, select K best and Random Forest Classifier"
   ]
  },
  {
   "cell_type": "code",
   "execution_count": 21,
   "id": "ecological-toddler",
   "metadata": {},
   "outputs": [
    {
     "data": {
      "text/html": [
       "<div>\n",
       "<style scoped>\n",
       "    .dataframe tbody tr th:only-of-type {\n",
       "        vertical-align: middle;\n",
       "    }\n",
       "\n",
       "    .dataframe tbody tr th {\n",
       "        vertical-align: top;\n",
       "    }\n",
       "\n",
       "    .dataframe thead th {\n",
       "        text-align: right;\n",
       "    }\n",
       "</style>\n",
       "<table border=\"1\" class=\"dataframe\">\n",
       "  <thead>\n",
       "    <tr style=\"text-align: right;\">\n",
       "      <th></th>\n",
       "      <th>Model</th>\n",
       "      <th>mean_fit_time</th>\n",
       "      <th>mean_score_time</th>\n",
       "      <th>param_clf__n_estimators</th>\n",
       "      <th>param_k_best__k</th>\n",
       "      <th>param_k_best__score_func</th>\n",
       "      <th>mean_test_score</th>\n",
       "      <th>rank_test_score</th>\n",
       "    </tr>\n",
       "  </thead>\n",
       "  <tbody>\n",
       "    <tr>\n",
       "      <th>2</th>\n",
       "      <td>3</td>\n",
       "      <td>2.967523</td>\n",
       "      <td>0.279818</td>\n",
       "      <td>200</td>\n",
       "      <td>1000</td>\n",
       "      <td>&lt;function chi2 at 0x7f3836c8b040&gt;</td>\n",
       "      <td>0.71</td>\n",
       "      <td>1</td>\n",
       "    </tr>\n",
       "    <tr>\n",
       "      <th>3</th>\n",
       "      <td>3</td>\n",
       "      <td>3.683880</td>\n",
       "      <td>0.212698</td>\n",
       "      <td>300</td>\n",
       "      <td>1000</td>\n",
       "      <td>&lt;function chi2 at 0x7f3836c8b040&gt;</td>\n",
       "      <td>0.70</td>\n",
       "      <td>2</td>\n",
       "    </tr>\n",
       "    <tr>\n",
       "      <th>1</th>\n",
       "      <td>3</td>\n",
       "      <td>1.803834</td>\n",
       "      <td>0.253839</td>\n",
       "      <td>100</td>\n",
       "      <td>1000</td>\n",
       "      <td>&lt;function chi2 at 0x7f3836c8b040&gt;</td>\n",
       "      <td>0.69</td>\n",
       "      <td>3</td>\n",
       "    </tr>\n",
       "    <tr>\n",
       "      <th>0</th>\n",
       "      <td>3</td>\n",
       "      <td>0.838501</td>\n",
       "      <td>0.171789</td>\n",
       "      <td>10</td>\n",
       "      <td>1000</td>\n",
       "      <td>&lt;function chi2 at 0x7f3836c8b040&gt;</td>\n",
       "      <td>0.58</td>\n",
       "      <td>4</td>\n",
       "    </tr>\n",
       "  </tbody>\n",
       "</table>\n",
       "</div>"
      ],
      "text/plain": [
       "  Model  mean_fit_time  mean_score_time param_clf__n_estimators  \\\n",
       "2     3       2.967523         0.279818                     200   \n",
       "3     3       3.683880         0.212698                     300   \n",
       "1     3       1.803834         0.253839                     100   \n",
       "0     3       0.838501         0.171789                      10   \n",
       "\n",
       "  param_k_best__k           param_k_best__score_func  mean_test_score  \\\n",
       "2            1000  <function chi2 at 0x7f3836c8b040>             0.71   \n",
       "3            1000  <function chi2 at 0x7f3836c8b040>             0.70   \n",
       "1            1000  <function chi2 at 0x7f3836c8b040>             0.69   \n",
       "0            1000  <function chi2 at 0x7f3836c8b040>             0.58   \n",
       "\n",
       "   rank_test_score  \n",
       "2                1  \n",
       "3                2  \n",
       "1                3  \n",
       "0                4  "
      ]
     },
     "metadata": {},
     "output_type": "display_data"
    }
   ],
   "source": [
    "#choose parameters for the different steps in the pipeline\n",
    "parameters_model_3 = {\n",
    "    \n",
    "    #select KBest\n",
    "    \"k_best__k\": [1000],\n",
    "    \"k_best__score_func\": [chi2],\n",
    "    \n",
    "    #RF classifier\n",
    "    \"clf__n_estimators\" : [10,100,200,300]\n",
    "\n",
    "}\n",
    "\n",
    "\n",
    "#build a pipeline\n",
    "model_3_pipeline = Pipeline([\n",
    "        #joins list into a single string\n",
    "        ('join', JoinElement()),\n",
    "        #tfidf vectorizer\n",
    "        ('tfidf', TfidfVectorizer()),\n",
    "        #select 1000 best from word vectors\n",
    "        ('k_best', SelectKBest()),\n",
    "        #apply naive bayes\n",
    "        ('clf', RandomForestClassifier())\n",
    "    ])\n",
    "\n",
    "#design grid search\n",
    "grid_search_model_3 = GridSearchCV(\n",
    "    #pipeline to be followed\n",
    "    model_3_pipeline,\n",
    "    #parameters\n",
    "    param_grid=parameters_model_3,\n",
    "    #number of folds for CV\n",
    "    cv=5,\n",
    "    #scoring to be considered for the cv\n",
    "    scoring = \"accuracy\",\n",
    "    #parallelize if possible\n",
    "    n_jobs=-1\n",
    ")\n",
    "\n",
    "#fit the grid search for training data\n",
    "grid_search_model_3.fit(file_contents, targets)\n",
    "\n",
    "#save results of cross validation\n",
    "cv_results_model_3 = pd.DataFrame(grid_search_model_3.cv_results_)\n",
    "\n",
    "#filter columns to be kept in the dataframe\n",
    "filter_col = [col for col in cv_results_model_3 if (col.startswith(\"param_\") or col.startswith(\"mean_\") or col.startswith(\"rank\"))]\n",
    "\n",
    "#save results with only filtered columns\n",
    "cv_results_model_3 = cv_results_model_3[filter_col]\n",
    "\n",
    "#save name of the model for later comparison\n",
    "cv_results_model_3.insert(loc=0, column=\"Model\", value= \"3\")\n",
    "\n",
    "#round mean_test_score\n",
    "cv_results_model_3[\"mean_test_score\"] = cv_results_model_3[\"mean_test_score\"].round(2)\n",
    "\n",
    "#show best 5 sorted by mean_test_score\n",
    "display(cv_results_model_3.sort_values(by=\"mean_test_score\", ascending=False).head(5))"
   ]
  },
  {
   "cell_type": "markdown",
   "id": "descending-giant",
   "metadata": {},
   "source": [
    "#### Model 4: Word2Vec and SVC"
   ]
  },
  {
   "cell_type": "code",
   "execution_count": 22,
   "id": "abroad-madonna",
   "metadata": {},
   "outputs": [
    {
     "data": {
      "text/html": [
       "<div>\n",
       "<style scoped>\n",
       "    .dataframe tbody tr th:only-of-type {\n",
       "        vertical-align: middle;\n",
       "    }\n",
       "\n",
       "    .dataframe tbody tr th {\n",
       "        vertical-align: top;\n",
       "    }\n",
       "\n",
       "    .dataframe thead th {\n",
       "        text-align: right;\n",
       "    }\n",
       "</style>\n",
       "<table border=\"1\" class=\"dataframe\">\n",
       "  <thead>\n",
       "    <tr style=\"text-align: right;\">\n",
       "      <th></th>\n",
       "      <th>Model</th>\n",
       "      <th>mean_fit_time</th>\n",
       "      <th>mean_score_time</th>\n",
       "      <th>param_SVC__degree</th>\n",
       "      <th>param_SVC__kernel</th>\n",
       "      <th>mean_test_score</th>\n",
       "      <th>rank_test_score</th>\n",
       "    </tr>\n",
       "  </thead>\n",
       "  <tbody>\n",
       "    <tr>\n",
       "      <th>0</th>\n",
       "      <td>4</td>\n",
       "      <td>20.183352</td>\n",
       "      <td>1.145256</td>\n",
       "      <td>2</td>\n",
       "      <td>linear</td>\n",
       "      <td>0.45</td>\n",
       "      <td>2</td>\n",
       "    </tr>\n",
       "    <tr>\n",
       "      <th>3</th>\n",
       "      <td>4</td>\n",
       "      <td>21.207602</td>\n",
       "      <td>1.229357</td>\n",
       "      <td>3</td>\n",
       "      <td>linear</td>\n",
       "      <td>0.45</td>\n",
       "      <td>1</td>\n",
       "    </tr>\n",
       "    <tr>\n",
       "      <th>1</th>\n",
       "      <td>4</td>\n",
       "      <td>21.477463</td>\n",
       "      <td>1.191597</td>\n",
       "      <td>2</td>\n",
       "      <td>poly</td>\n",
       "      <td>0.40</td>\n",
       "      <td>4</td>\n",
       "    </tr>\n",
       "    <tr>\n",
       "      <th>4</th>\n",
       "      <td>4</td>\n",
       "      <td>19.717812</td>\n",
       "      <td>1.016999</td>\n",
       "      <td>3</td>\n",
       "      <td>poly</td>\n",
       "      <td>0.40</td>\n",
       "      <td>3</td>\n",
       "    </tr>\n",
       "    <tr>\n",
       "      <th>2</th>\n",
       "      <td>4</td>\n",
       "      <td>21.898611</td>\n",
       "      <td>1.251719</td>\n",
       "      <td>2</td>\n",
       "      <td>sigmoid</td>\n",
       "      <td>0.32</td>\n",
       "      <td>6</td>\n",
       "    </tr>\n",
       "  </tbody>\n",
       "</table>\n",
       "</div>"
      ],
      "text/plain": [
       "  Model  mean_fit_time  mean_score_time param_SVC__degree param_SVC__kernel  \\\n",
       "0     4      20.183352         1.145256                 2            linear   \n",
       "3     4      21.207602         1.229357                 3            linear   \n",
       "1     4      21.477463         1.191597                 2              poly   \n",
       "4     4      19.717812         1.016999                 3              poly   \n",
       "2     4      21.898611         1.251719                 2           sigmoid   \n",
       "\n",
       "   mean_test_score  rank_test_score  \n",
       "0             0.45                2  \n",
       "3             0.45                1  \n",
       "1             0.40                4  \n",
       "4             0.40                3  \n",
       "2             0.32                6  "
      ]
     },
     "metadata": {},
     "output_type": "display_data"
    }
   ],
   "source": [
    "#choose parameters for the different steps in the pipeline\n",
    "parameters_model_4 = {\n",
    "    \n",
    "    #SVC\n",
    "    \"SVC__kernel\" : [\"linear\", \"poly\", \"sigmoid\"], \n",
    "    \"SVC__degree\": [2,3]\n",
    "\n",
    "}\n",
    "\n",
    "\n",
    "#build a pipeline\n",
    "model_4_pipeline = Pipeline([\n",
    "        #tfidf vectorizer\n",
    "        ('word2vec', MeanEmbeddingVectorizer()),\n",
    "        #apply naive bayes\n",
    "        ('SVC', SVC())\n",
    "    ])\n",
    "\n",
    "#design grid search\n",
    "grid_search_model_4 = GridSearchCV(\n",
    "    #pipeline to be followed\n",
    "    model_4_pipeline,\n",
    "    #parameters\n",
    "    param_grid=parameters_model_4,\n",
    "    #number of folds for CV\n",
    "    cv=5,\n",
    "    #scoring to be considered for the cv\n",
    "    scoring = \"accuracy\",\n",
    "    #parallelize if possible\n",
    "    n_jobs=-1\n",
    ")\n",
    "\n",
    "#fit the grid search for training data\n",
    "grid_search_model_4.fit(file_contents, targets)\n",
    "\n",
    "#save results of cross validation\n",
    "cv_results_model_4 = pd.DataFrame(grid_search_model_4.cv_results_)\n",
    "\n",
    "#filter columns to be kept in the dataframe\n",
    "filter_col = [col for col in cv_results_model_4 if (col.startswith(\"param_\") or col.startswith(\"mean_\") or col.startswith(\"rank\"))]\n",
    "\n",
    "#save results with only filtered columns\n",
    "cv_results_model_4 = cv_results_model_4[filter_col]\n",
    "\n",
    "#save name of the model for later comparison\n",
    "cv_results_model_4.insert(loc=0, column=\"Model\", value= \"4\")\n",
    "\n",
    "#round mean_test_score\n",
    "cv_results_model_4[\"mean_test_score\"] = cv_results_model_4[\"mean_test_score\"].round(2)\n",
    "\n",
    "#show best 5 sorted by mean_test_score\n",
    "display(cv_results_model_4.sort_values(by=\"mean_test_score\", ascending=False).head(5))"
   ]
  },
  {
   "cell_type": "markdown",
   "id": "found-flesh",
   "metadata": {},
   "source": [
    "#### Model 5: Word2Vec and Random Forest Classifier"
   ]
  },
  {
   "cell_type": "code",
   "execution_count": 23,
   "id": "annoying-optimization",
   "metadata": {},
   "outputs": [
    {
     "data": {
      "text/html": [
       "<div>\n",
       "<style scoped>\n",
       "    .dataframe tbody tr th:only-of-type {\n",
       "        vertical-align: middle;\n",
       "    }\n",
       "\n",
       "    .dataframe tbody tr th {\n",
       "        vertical-align: top;\n",
       "    }\n",
       "\n",
       "    .dataframe thead th {\n",
       "        text-align: right;\n",
       "    }\n",
       "</style>\n",
       "<table border=\"1\" class=\"dataframe\">\n",
       "  <thead>\n",
       "    <tr style=\"text-align: right;\">\n",
       "      <th></th>\n",
       "      <th>Model</th>\n",
       "      <th>mean_fit_time</th>\n",
       "      <th>mean_score_time</th>\n",
       "      <th>param_clf__n_estimators</th>\n",
       "      <th>mean_test_score</th>\n",
       "      <th>rank_test_score</th>\n",
       "    </tr>\n",
       "  </thead>\n",
       "  <tbody>\n",
       "    <tr>\n",
       "      <th>2</th>\n",
       "      <td>5</td>\n",
       "      <td>22.271788</td>\n",
       "      <td>0.809294</td>\n",
       "      <td>200</td>\n",
       "      <td>0.43</td>\n",
       "      <td>1</td>\n",
       "    </tr>\n",
       "    <tr>\n",
       "      <th>3</th>\n",
       "      <td>5</td>\n",
       "      <td>18.927214</td>\n",
       "      <td>0.493099</td>\n",
       "      <td>300</td>\n",
       "      <td>0.43</td>\n",
       "      <td>2</td>\n",
       "    </tr>\n",
       "    <tr>\n",
       "      <th>1</th>\n",
       "      <td>5</td>\n",
       "      <td>22.345759</td>\n",
       "      <td>1.247744</td>\n",
       "      <td>100</td>\n",
       "      <td>0.41</td>\n",
       "      <td>3</td>\n",
       "    </tr>\n",
       "    <tr>\n",
       "      <th>0</th>\n",
       "      <td>5</td>\n",
       "      <td>18.667007</td>\n",
       "      <td>1.303066</td>\n",
       "      <td>10</td>\n",
       "      <td>0.34</td>\n",
       "      <td>4</td>\n",
       "    </tr>\n",
       "  </tbody>\n",
       "</table>\n",
       "</div>"
      ],
      "text/plain": [
       "  Model  mean_fit_time  mean_score_time param_clf__n_estimators  \\\n",
       "2     5      22.271788         0.809294                     200   \n",
       "3     5      18.927214         0.493099                     300   \n",
       "1     5      22.345759         1.247744                     100   \n",
       "0     5      18.667007         1.303066                      10   \n",
       "\n",
       "   mean_test_score  rank_test_score  \n",
       "2             0.43                1  \n",
       "3             0.43                2  \n",
       "1             0.41                3  \n",
       "0             0.34                4  "
      ]
     },
     "metadata": {},
     "output_type": "display_data"
    }
   ],
   "source": [
    "#choose parameters for the different steps in the pipeline\n",
    "parameters_model_5 = {\n",
    "    \n",
    "    #RF classifier\n",
    "    \"clf__n_estimators\" : [10,100,200,300]\n",
    "\n",
    "}\n",
    "\n",
    "\n",
    "#build a pipeline\n",
    "model_5_pipeline = Pipeline([\n",
    "        #tfidf vectorizer\n",
    "        ('word2vec', MeanEmbeddingVectorizer()),\n",
    "        #apply naive bayes\n",
    "        ('clf', RandomForestClassifier())\n",
    "    ])\n",
    "\n",
    "#design grid search\n",
    "grid_search_model_5 = GridSearchCV(\n",
    "    #pipeline to be followed\n",
    "    model_5_pipeline,\n",
    "    #parameters\n",
    "    param_grid=parameters_model_5,\n",
    "    #number of folds for CV\n",
    "    cv=5,\n",
    "    #scoring to be considered for the cv\n",
    "    scoring = \"accuracy\",\n",
    "    #parallelize if possible\n",
    "    n_jobs=-1\n",
    ")\n",
    "\n",
    "#fit the grid search for training data\n",
    "grid_search_model_5.fit(file_contents, targets)\n",
    "\n",
    "#save results of cross validation\n",
    "cv_results_model_5 = pd.DataFrame(grid_search_model_5.cv_results_)\n",
    "\n",
    "#filter columns to be kept in the dataframe\n",
    "filter_col = [col for col in cv_results_model_5 if (col.startswith(\"param_\") or col.startswith(\"mean_\") or col.startswith(\"rank\"))]\n",
    "\n",
    "#save results with only filtered columns\n",
    "cv_results_model_5 = cv_results_model_5[filter_col]\n",
    "\n",
    "#save name of the model for later comparison\n",
    "cv_results_model_5.insert(loc=0, column=\"Model\", value= \"5\")\n",
    "\n",
    "#round mean_test_score\n",
    "cv_results_model_5[\"mean_test_score\"] = cv_results_model_5[\"mean_test_score\"].round(2)\n",
    "\n",
    "#show best 5 sorted by mean_test_score\n",
    "display(cv_results_model_5.sort_values(by=\"mean_test_score\", ascending=False).head(5))"
   ]
  },
  {
   "cell_type": "markdown",
   "id": "suspected-script",
   "metadata": {},
   "source": [
    "#### Model 6: Doc2Vec and Support Vector Machines"
   ]
  },
  {
   "cell_type": "code",
   "execution_count": 24,
   "id": "animated-boston",
   "metadata": {},
   "outputs": [
    {
     "data": {
      "text/html": [
       "<div>\n",
       "<style scoped>\n",
       "    .dataframe tbody tr th:only-of-type {\n",
       "        vertical-align: middle;\n",
       "    }\n",
       "\n",
       "    .dataframe tbody tr th {\n",
       "        vertical-align: top;\n",
       "    }\n",
       "\n",
       "    .dataframe thead th {\n",
       "        text-align: right;\n",
       "    }\n",
       "</style>\n",
       "<table border=\"1\" class=\"dataframe\">\n",
       "  <thead>\n",
       "    <tr style=\"text-align: right;\">\n",
       "      <th></th>\n",
       "      <th>Model</th>\n",
       "      <th>mean_fit_time</th>\n",
       "      <th>mean_score_time</th>\n",
       "      <th>param_SVC__degree</th>\n",
       "      <th>param_SVC__kernel</th>\n",
       "      <th>param_doc2vec__vector_size</th>\n",
       "      <th>param_doc2vec__window</th>\n",
       "      <th>mean_test_score</th>\n",
       "      <th>rank_test_score</th>\n",
       "    </tr>\n",
       "  </thead>\n",
       "  <tbody>\n",
       "    <tr>\n",
       "      <th>0</th>\n",
       "      <td>6</td>\n",
       "      <td>60.741163</td>\n",
       "      <td>5.598336</td>\n",
       "      <td>2</td>\n",
       "      <td>linear</td>\n",
       "      <td>300</td>\n",
       "      <td>4</td>\n",
       "      <td>0.61</td>\n",
       "      <td>1</td>\n",
       "    </tr>\n",
       "    <tr>\n",
       "      <th>3</th>\n",
       "      <td>6</td>\n",
       "      <td>63.018681</td>\n",
       "      <td>5.130937</td>\n",
       "      <td>3</td>\n",
       "      <td>linear</td>\n",
       "      <td>300</td>\n",
       "      <td>4</td>\n",
       "      <td>0.60</td>\n",
       "      <td>2</td>\n",
       "    </tr>\n",
       "    <tr>\n",
       "      <th>1</th>\n",
       "      <td>6</td>\n",
       "      <td>65.423392</td>\n",
       "      <td>5.526182</td>\n",
       "      <td>2</td>\n",
       "      <td>poly</td>\n",
       "      <td>300</td>\n",
       "      <td>4</td>\n",
       "      <td>0.43</td>\n",
       "      <td>3</td>\n",
       "    </tr>\n",
       "    <tr>\n",
       "      <th>4</th>\n",
       "      <td>6</td>\n",
       "      <td>57.747112</td>\n",
       "      <td>4.362874</td>\n",
       "      <td>3</td>\n",
       "      <td>poly</td>\n",
       "      <td>300</td>\n",
       "      <td>4</td>\n",
       "      <td>0.41</td>\n",
       "      <td>4</td>\n",
       "    </tr>\n",
       "    <tr>\n",
       "      <th>2</th>\n",
       "      <td>6</td>\n",
       "      <td>64.041167</td>\n",
       "      <td>5.990533</td>\n",
       "      <td>2</td>\n",
       "      <td>sigmoid</td>\n",
       "      <td>300</td>\n",
       "      <td>4</td>\n",
       "      <td>0.21</td>\n",
       "      <td>5</td>\n",
       "    </tr>\n",
       "  </tbody>\n",
       "</table>\n",
       "</div>"
      ],
      "text/plain": [
       "  Model  mean_fit_time  mean_score_time param_SVC__degree param_SVC__kernel  \\\n",
       "0     6      60.741163         5.598336                 2            linear   \n",
       "3     6      63.018681         5.130937                 3            linear   \n",
       "1     6      65.423392         5.526182                 2              poly   \n",
       "4     6      57.747112         4.362874                 3              poly   \n",
       "2     6      64.041167         5.990533                 2           sigmoid   \n",
       "\n",
       "  param_doc2vec__vector_size param_doc2vec__window  mean_test_score  \\\n",
       "0                        300                     4             0.61   \n",
       "3                        300                     4             0.60   \n",
       "1                        300                     4             0.43   \n",
       "4                        300                     4             0.41   \n",
       "2                        300                     4             0.21   \n",
       "\n",
       "   rank_test_score  \n",
       "0                1  \n",
       "3                2  \n",
       "1                3  \n",
       "4                4  \n",
       "2                5  "
      ]
     },
     "metadata": {},
     "output_type": "display_data"
    }
   ],
   "source": [
    "#choose parameters for the different steps in the pipeline\n",
    "parameters_model_6 = {\n",
    "    \n",
    "    #doc2Vec\n",
    "    'doc2vec__window': [4],\n",
    "    'doc2vec__vector_size': [300],\n",
    "    \n",
    "    #SVC\n",
    "    \"SVC__kernel\" : [\"linear\", \"poly\", \"sigmoid\"], \n",
    "    \"SVC__degree\": [2,3]\n",
    "\n",
    "}\n",
    "\n",
    "\n",
    "#build a pipeline\n",
    "model_6_pipeline = Pipeline([\n",
    "        #tfidf vectorizer\n",
    "        ('doc2vec', Doc2Vectorizer()),\n",
    "        #apply naive bayes\n",
    "        ('SVC', SVC())\n",
    "    ])\n",
    "\n",
    "#design grid search\n",
    "grid_search_model_6 = GridSearchCV(\n",
    "    #pipeline to be followed\n",
    "    model_6_pipeline,\n",
    "    #parameters\n",
    "    param_grid=parameters_model_6,\n",
    "    #number of folds for CV\n",
    "    cv=5,\n",
    "    #scoring to be considered for the cv\n",
    "    scoring = \"accuracy\",\n",
    "    #parallelize if possible\n",
    "    n_jobs=-1\n",
    ")\n",
    "\n",
    "#fit the grid search for training data\n",
    "grid_search_model_6.fit(file_contents, targets)\n",
    "\n",
    "#save results of cross validation\n",
    "cv_results_model_6 = pd.DataFrame(grid_search_model_6.cv_results_)\n",
    "\n",
    "#filter columns to be kept in the dataframe\n",
    "filter_col = [col for col in cv_results_model_6 if (col.startswith(\"param_\") or col.startswith(\"mean_\") or col.startswith(\"rank\"))]\n",
    "\n",
    "#save results with only filtered columns\n",
    "cv_results_model_6 = cv_results_model_6[filter_col]\n",
    "\n",
    "#save name of the model for later comparison\n",
    "cv_results_model_6.insert(loc=0, column=\"Model\", value= \"6\")\n",
    "\n",
    "#round mean_test_score\n",
    "cv_results_model_6[\"mean_test_score\"] = cv_results_model_6[\"mean_test_score\"].round(2)\n",
    "\n",
    "#show best 5 sorted by mean_test_score\n",
    "display(cv_results_model_6.sort_values(by=\"mean_test_score\", ascending=False).head(5))"
   ]
  },
  {
   "cell_type": "markdown",
   "id": "looking-helen",
   "metadata": {},
   "source": [
    "#### Model 7: Doc2Vec and Random Forest Classifier"
   ]
  },
  {
   "cell_type": "code",
   "execution_count": 25,
   "id": "constitutional-mixture",
   "metadata": {},
   "outputs": [
    {
     "data": {
      "text/html": [
       "<div>\n",
       "<style scoped>\n",
       "    .dataframe tbody tr th:only-of-type {\n",
       "        vertical-align: middle;\n",
       "    }\n",
       "\n",
       "    .dataframe tbody tr th {\n",
       "        vertical-align: top;\n",
       "    }\n",
       "\n",
       "    .dataframe thead th {\n",
       "        text-align: right;\n",
       "    }\n",
       "</style>\n",
       "<table border=\"1\" class=\"dataframe\">\n",
       "  <thead>\n",
       "    <tr style=\"text-align: right;\">\n",
       "      <th></th>\n",
       "      <th>Model</th>\n",
       "      <th>mean_fit_time</th>\n",
       "      <th>mean_score_time</th>\n",
       "      <th>param_clf__n_estimators</th>\n",
       "      <th>param_doc2vec__vector_size</th>\n",
       "      <th>param_doc2vec__window</th>\n",
       "      <th>mean_test_score</th>\n",
       "      <th>rank_test_score</th>\n",
       "    </tr>\n",
       "  </thead>\n",
       "  <tbody>\n",
       "    <tr>\n",
       "      <th>2</th>\n",
       "      <td>7</td>\n",
       "      <td>55.709254</td>\n",
       "      <td>3.357361</td>\n",
       "      <td>200</td>\n",
       "      <td>300</td>\n",
       "      <td>4</td>\n",
       "      <td>0.52</td>\n",
       "      <td>1</td>\n",
       "    </tr>\n",
       "    <tr>\n",
       "      <th>3</th>\n",
       "      <td>7</td>\n",
       "      <td>51.120900</td>\n",
       "      <td>2.424664</td>\n",
       "      <td>300</td>\n",
       "      <td>300</td>\n",
       "      <td>4</td>\n",
       "      <td>0.52</td>\n",
       "      <td>2</td>\n",
       "    </tr>\n",
       "    <tr>\n",
       "      <th>1</th>\n",
       "      <td>7</td>\n",
       "      <td>63.672033</td>\n",
       "      <td>4.410539</td>\n",
       "      <td>100</td>\n",
       "      <td>300</td>\n",
       "      <td>4</td>\n",
       "      <td>0.51</td>\n",
       "      <td>3</td>\n",
       "    </tr>\n",
       "    <tr>\n",
       "      <th>0</th>\n",
       "      <td>7</td>\n",
       "      <td>58.849333</td>\n",
       "      <td>4.962088</td>\n",
       "      <td>10</td>\n",
       "      <td>300</td>\n",
       "      <td>4</td>\n",
       "      <td>0.45</td>\n",
       "      <td>4</td>\n",
       "    </tr>\n",
       "  </tbody>\n",
       "</table>\n",
       "</div>"
      ],
      "text/plain": [
       "  Model  mean_fit_time  mean_score_time param_clf__n_estimators  \\\n",
       "2     7      55.709254         3.357361                     200   \n",
       "3     7      51.120900         2.424664                     300   \n",
       "1     7      63.672033         4.410539                     100   \n",
       "0     7      58.849333         4.962088                      10   \n",
       "\n",
       "  param_doc2vec__vector_size param_doc2vec__window  mean_test_score  \\\n",
       "2                        300                     4             0.52   \n",
       "3                        300                     4             0.52   \n",
       "1                        300                     4             0.51   \n",
       "0                        300                     4             0.45   \n",
       "\n",
       "   rank_test_score  \n",
       "2                1  \n",
       "3                2  \n",
       "1                3  \n",
       "0                4  "
      ]
     },
     "metadata": {},
     "output_type": "display_data"
    }
   ],
   "source": [
    "#choose parameters for the different steps in the pipeline\n",
    "parameters_model_7 = {\n",
    "    \n",
    "    #doc2Vec\n",
    "    'doc2vec__window': [4],\n",
    "    'doc2vec__vector_size': [300],\n",
    "    \n",
    "    #RF classifier\n",
    "    \"clf__n_estimators\" : [10,100,200,300]\n",
    "\n",
    "}\n",
    "\n",
    "\n",
    "#build a pipeline\n",
    "model_7_pipeline = Pipeline([\n",
    "        #tfidf vectorizer\n",
    "        ('doc2vec', Doc2Vectorizer()),\n",
    "        #apply naive bayes\n",
    "        ('clf', RandomForestClassifier())\n",
    "    ])\n",
    "\n",
    "#design grid search\n",
    "grid_search_model_7 = GridSearchCV(\n",
    "    #pipeline to be followed\n",
    "    model_7_pipeline,\n",
    "    #parameters\n",
    "    param_grid=parameters_model_7,\n",
    "    #number of folds for CV\n",
    "    cv=5,\n",
    "    #scoring to be considered for the cv\n",
    "    scoring = \"accuracy\",\n",
    "    #parallelize if possible\n",
    "    n_jobs=-1\n",
    ")\n",
    "\n",
    "#fit the grid search for training data\n",
    "grid_search_model_7.fit(file_contents, targets)\n",
    "\n",
    "#save results of cross validation\n",
    "cv_results_model_7 = pd.DataFrame(grid_search_model_7.cv_results_)\n",
    "\n",
    "#filter columns to be kept in the dataframe\n",
    "filter_col = [col for col in cv_results_model_7 if (col.startswith(\"param_\") or col.startswith(\"mean_\") or col.startswith(\"rank\"))]\n",
    "\n",
    "#save results with only filtered columns\n",
    "cv_results_model_7 = cv_results_model_7[filter_col]\n",
    "\n",
    "#save name of the model for later comparison\n",
    "cv_results_model_7.insert(loc=0, column=\"Model\", value= \"7\")\n",
    "\n",
    "#round mean_test_score\n",
    "cv_results_model_7[\"mean_test_score\"] = cv_results_model_7[\"mean_test_score\"].round(2)\n",
    "\n",
    "#show best 5 sorted by mean_test_score\n",
    "display(cv_results_model_7.sort_values(by=\"mean_test_score\", ascending=False).head(5))"
   ]
  },
  {
   "cell_type": "markdown",
   "id": "progressive-breakdown",
   "metadata": {},
   "source": [
    "### Compare CV results from trained models"
   ]
  },
  {
   "cell_type": "markdown",
   "id": "alive-document",
   "metadata": {},
   "source": [
    "In this section, the results from CV are compared within the trained models."
   ]
  },
  {
   "cell_type": "markdown",
   "id": "compound-college",
   "metadata": {},
   "source": [
    "#### Raw results "
   ]
  },
  {
   "cell_type": "markdown",
   "id": "incorporate-involvement",
   "metadata": {},
   "source": [
    "A dataframe showing the best models according to the mean accuracy within the test folds used for cross validation."
   ]
  },
  {
   "cell_type": "code",
   "execution_count": 26,
   "id": "affected-baker",
   "metadata": {},
   "outputs": [
    {
     "data": {
      "text/html": [
       "<div>\n",
       "<style scoped>\n",
       "    .dataframe tbody tr th:only-of-type {\n",
       "        vertical-align: middle;\n",
       "    }\n",
       "\n",
       "    .dataframe tbody tr th {\n",
       "        vertical-align: top;\n",
       "    }\n",
       "\n",
       "    .dataframe thead th {\n",
       "        text-align: right;\n",
       "    }\n",
       "</style>\n",
       "<table border=\"1\" class=\"dataframe\">\n",
       "  <thead>\n",
       "    <tr style=\"text-align: right;\">\n",
       "      <th></th>\n",
       "      <th>Model</th>\n",
       "      <th>mean_fit_time</th>\n",
       "      <th>mean_score_time</th>\n",
       "      <th>mean_test_score</th>\n",
       "    </tr>\n",
       "  </thead>\n",
       "  <tbody>\n",
       "    <tr>\n",
       "      <th>3</th>\n",
       "      <td>1</td>\n",
       "      <td>0.748794</td>\n",
       "      <td>0.178633</td>\n",
       "      <td>0.79</td>\n",
       "    </tr>\n",
       "    <tr>\n",
       "      <th>5</th>\n",
       "      <td>1</td>\n",
       "      <td>0.753403</td>\n",
       "      <td>0.179902</td>\n",
       "      <td>0.79</td>\n",
       "    </tr>\n",
       "    <tr>\n",
       "      <th>1</th>\n",
       "      <td>1</td>\n",
       "      <td>0.866558</td>\n",
       "      <td>0.192054</td>\n",
       "      <td>0.79</td>\n",
       "    </tr>\n",
       "    <tr>\n",
       "      <th>0</th>\n",
       "      <td>1</td>\n",
       "      <td>0.810029</td>\n",
       "      <td>0.184780</td>\n",
       "      <td>0.77</td>\n",
       "    </tr>\n",
       "    <tr>\n",
       "      <th>2</th>\n",
       "      <td>1</td>\n",
       "      <td>0.793854</td>\n",
       "      <td>0.179059</td>\n",
       "      <td>0.76</td>\n",
       "    </tr>\n",
       "    <tr>\n",
       "      <th>4</th>\n",
       "      <td>1</td>\n",
       "      <td>0.797843</td>\n",
       "      <td>0.170899</td>\n",
       "      <td>0.75</td>\n",
       "    </tr>\n",
       "    <tr>\n",
       "      <th>7</th>\n",
       "      <td>1</td>\n",
       "      <td>0.742958</td>\n",
       "      <td>0.179668</td>\n",
       "      <td>0.74</td>\n",
       "    </tr>\n",
       "    <tr>\n",
       "      <th>1</th>\n",
       "      <td>2</td>\n",
       "      <td>1.911231</td>\n",
       "      <td>0.490081</td>\n",
       "      <td>0.73</td>\n",
       "    </tr>\n",
       "    <tr>\n",
       "      <th>0</th>\n",
       "      <td>2</td>\n",
       "      <td>1.906804</td>\n",
       "      <td>0.484731</td>\n",
       "      <td>0.71</td>\n",
       "    </tr>\n",
       "    <tr>\n",
       "      <th>3</th>\n",
       "      <td>2</td>\n",
       "      <td>2.100146</td>\n",
       "      <td>0.483397</td>\n",
       "      <td>0.71</td>\n",
       "    </tr>\n",
       "  </tbody>\n",
       "</table>\n",
       "</div>"
      ],
      "text/plain": [
       "  Model  mean_fit_time  mean_score_time  mean_test_score\n",
       "3     1       0.748794         0.178633             0.79\n",
       "5     1       0.753403         0.179902             0.79\n",
       "1     1       0.866558         0.192054             0.79\n",
       "0     1       0.810029         0.184780             0.77\n",
       "2     1       0.793854         0.179059             0.76\n",
       "4     1       0.797843         0.170899             0.75\n",
       "7     1       0.742958         0.179668             0.74\n",
       "1     2       1.911231         0.490081             0.73\n",
       "0     2       1.906804         0.484731             0.71\n",
       "3     2       2.100146         0.483397             0.71"
      ]
     },
     "metadata": {},
     "output_type": "display_data"
    }
   ],
   "source": [
    "#merge cv results into 1 that keeps the relevant information\n",
    "\n",
    "#empty dataframe that will keep all the results\n",
    "cv_results = pd.DataFrame()\n",
    "\n",
    "#loop over cv results\n",
    "for i in [cv_results_model_1, cv_results_model_2, cv_results_model_3, cv_results_model_4,\n",
    "          cv_results_model_5, cv_results_model_6, cv_results_model_7]:\n",
    "    \n",
    "    #select relevant columns\n",
    "    selected = i[[\"Model\",\"mean_fit_time\",\"mean_score_time\",\"mean_test_score\"]]\n",
    "    \n",
    "    #append to cv results\n",
    "    cv_results = cv_results.append(selected)\n",
    "    \n",
    "#show models with best scores\n",
    "display(cv_results.sort_values(by=\"mean_test_score\", ascending=False).head(10))"
   ]
  },
  {
   "cell_type": "markdown",
   "id": "impaired-spyware",
   "metadata": {},
   "source": [
    "⚠️ *This table could be improved by also indicating the parameters used in each model but I thought it would be a bit overwhelming*"
   ]
  },
  {
   "cell_type": "markdown",
   "id": "certain-pottery",
   "metadata": {},
   "source": [
    "#### Tradeoff score vs mean fit time"
   ]
  },
  {
   "cell_type": "markdown",
   "id": "portable-delay",
   "metadata": {},
   "source": [
    "A plot to check if there is some kind of tradeoff between accuracy and runtime of the algorithms."
   ]
  },
  {
   "cell_type": "code",
   "execution_count": 27,
   "id": "herbal-equilibrium",
   "metadata": {},
   "outputs": [
    {
     "data": {
      "image/png": "[encoded data removed]",
      "text/plain": [
       "<Figure size 432x288 with 1 Axes>"
      ]
     },
     "metadata": {
      "needs_background": "light"
     },
     "output_type": "display_data"
    }
   ],
   "source": [
    "#group by model\n",
    "groups = cv_results.groupby(\"Model\")\n",
    "\n",
    "# Plot\n",
    "fig, ax = plt.subplots()\n",
    "ax.margins(0.05) # Optional, just adds 5% padding to the autoscaling\n",
    "for name, group in groups:\n",
    "    ax.plot(group.mean_fit_time, group.mean_test_score, marker='o', linestyle='', ms=12, label=\"Model %s\" %name)\n",
    "ax.legend(loc = 1)\n",
    "plt.xlabel(\"Mean fit time\")\n",
    "plt.ylabel(\"Mean test Score (accuracy)\")\n",
    "plt.show()\n",
    "\n"
   ]
  },
  {
   "cell_type": "markdown",
   "id": "aggregate-cherry",
   "metadata": {},
   "source": [
    "⚠️ *We can add as much as we want here...*"
   ]
  },
  {
   "cell_type": "markdown",
   "id": "extra-malawi",
   "metadata": {},
   "source": [
    "#### Best estimator from each model"
   ]
  },
  {
   "cell_type": "code",
   "execution_count": 28,
   "id": "violent-excerpt",
   "metadata": {},
   "outputs": [],
   "source": [
    "#plot to add"
   ]
  },
  {
   "cell_type": "markdown",
   "id": "economic-flour",
   "metadata": {},
   "source": [
    "#### Best 5 models"
   ]
  },
  {
   "cell_type": "code",
   "execution_count": 29,
   "id": "statistical-soundtrack",
   "metadata": {},
   "outputs": [],
   "source": [
    " #plot to add"
   ]
  },
  {
   "cell_type": "markdown",
   "id": "united-prior",
   "metadata": {},
   "source": [
    "## Evaluation and model selection"
   ]
  },
  {
   "cell_type": "markdown",
   "id": "australian-northwest",
   "metadata": {},
   "source": [
    "Predict on \"unseen\" data using the best models obtained in the training phase and evaluate using different metrics.\n",
    "\n",
    "⚠️ *Best models will be selected when training the models with the actual train data*"
   ]
  },
  {
   "cell_type": "code",
   "execution_count": 30,
   "id": "micro-angel",
   "metadata": {},
   "outputs": [
    {
     "data": {
      "text/html": [
       "<div>\n",
       "<style scoped>\n",
       "    .dataframe tbody tr th:only-of-type {\n",
       "        vertical-align: middle;\n",
       "    }\n",
       "\n",
       "    .dataframe tbody tr th {\n",
       "        vertical-align: top;\n",
       "    }\n",
       "\n",
       "    .dataframe thead th {\n",
       "        text-align: right;\n",
       "    }\n",
       "</style>\n",
       "<table border=\"1\" class=\"dataframe\">\n",
       "  <thead>\n",
       "    <tr style=\"text-align: right;\">\n",
       "      <th></th>\n",
       "      <th>model</th>\n",
       "      <th>accuracy</th>\n",
       "      <th>recall</th>\n",
       "      <th>precision</th>\n",
       "      <th>f1</th>\n",
       "    </tr>\n",
       "  </thead>\n",
       "  <tbody>\n",
       "    <tr>\n",
       "      <th>3</th>\n",
       "      <td>Model GridSearchCV(cv=5,\\n             estimat...</td>\n",
       "      <td>0.416667</td>\n",
       "      <td>0.416667</td>\n",
       "      <td>0.416667</td>\n",
       "      <td>0.416667</td>\n",
       "    </tr>\n",
       "    <tr>\n",
       "      <th>1</th>\n",
       "      <td>Model GridSearchCV(cv=5,\\n             estimat...</td>\n",
       "      <td>0.716667</td>\n",
       "      <td>0.716667</td>\n",
       "      <td>0.716667</td>\n",
       "      <td>0.716667</td>\n",
       "    </tr>\n",
       "    <tr>\n",
       "      <th>0</th>\n",
       "      <td>Model GridSearchCV(cv=5,\\n             estimat...</td>\n",
       "      <td>0.750000</td>\n",
       "      <td>0.750000</td>\n",
       "      <td>0.750000</td>\n",
       "      <td>0.750000</td>\n",
       "    </tr>\n",
       "    <tr>\n",
       "      <th>2</th>\n",
       "      <td>Model GridSearchCV(cv=5,\\n             estimat...</td>\n",
       "      <td>0.775000</td>\n",
       "      <td>0.775000</td>\n",
       "      <td>0.775000</td>\n",
       "      <td>0.775000</td>\n",
       "    </tr>\n",
       "  </tbody>\n",
       "</table>\n",
       "</div>"
      ],
      "text/plain": [
       "                                               model  accuracy    recall  \\\n",
       "3  Model GridSearchCV(cv=5,\\n             estimat...  0.416667  0.416667   \n",
       "1  Model GridSearchCV(cv=5,\\n             estimat...  0.716667  0.716667   \n",
       "0  Model GridSearchCV(cv=5,\\n             estimat...  0.750000  0.750000   \n",
       "2  Model GridSearchCV(cv=5,\\n             estimat...  0.775000  0.775000   \n",
       "\n",
       "   precision        f1  \n",
       "3   0.416667  0.416667  \n",
       "1   0.716667  0.716667  \n",
       "0   0.750000  0.750000  \n",
       "2   0.775000  0.775000  "
      ]
     },
     "execution_count": 30,
     "metadata": {},
     "output_type": "execute_result"
    }
   ],
   "source": [
    "#add models to be evaluated\n",
    "models = [\n",
    "    grid_search_model_1,\n",
    "    grid_search_model_2,\n",
    "    grid_search_model_3,\n",
    "    grid_search_model_7\n",
    "]\n",
    "\n",
    "evaluation = pd.DataFrame(columns=[\"model\",\"accuracy\",\"recall\",\"precision\",\"f1\"])\n",
    "\n",
    "\n",
    "for i in models:\n",
    "    preds = i.best_estimator_.predict(file_contents_test)\n",
    "    model = cv_results.iloc[i.best_index_,0]\n",
    "    to_append = [\n",
    "            # to FIX so that it says to which model number it corresponds\n",
    "            \"Model %s\" %i,\n",
    "            accuracy_score(y_true=targets_test,y_pred=preds),\n",
    "            #choose micro or macro according to criteria\n",
    "            recall_score(y_true=targets_test,y_pred=preds, average=\"micro\"),\n",
    "            precision_score(y_true=targets_test,y_pred=preds, average=\"micro\"),\n",
    "            f1_score(y_true=targets_test,y_pred=preds, average=\"micro\")\n",
    "            ]\n",
    "    evaluation_length = len(evaluation)\n",
    "    evaluation.loc[evaluation_length] = to_append\n",
    "\n",
    "\n",
    "evaluation.sort_values(by=\"accuracy\")\n"
   ]
  },
  {
   "cell_type": "markdown",
   "id": "sustained-genetics",
   "metadata": {},
   "source": [
    "The **best estimator we found is:** \n",
    "\n",
    "⚠️ *Best models will be selected when training the models with the actual train data*"
   ]
  },
  {
   "cell_type": "code",
   "execution_count": 31,
   "id": "qualified-assumption",
   "metadata": {},
   "outputs": [
    {
     "data": {
      "text/plain": [
       "Pipeline(steps=[('join', <__main__.JoinElement object at 0x7f3831ec9f10>),\n",
       "                ('tfidf', TfidfVectorizer()),\n",
       "                ('k_best',\n",
       "                 SelectKBest(k=1000,\n",
       "                             score_func=<function chi2 at 0x7f3836c8b040>)),\n",
       "                ('MNB', MultinomialNB(alpha=0.05, fit_prior=False))])"
      ]
     },
     "execution_count": 31,
     "metadata": {},
     "output_type": "execute_result"
    }
   ],
   "source": [
    "grid_search_model_1.best_estimator_"
   ]
  },
  {
   "cell_type": "markdown",
   "id": "running-terry",
   "metadata": {},
   "source": [
    "Predict using this estimator and show **confusion matrix** on test data:"
   ]
  },
  {
   "cell_type": "code",
   "execution_count": 32,
   "id": "regulation-option",
   "metadata": {},
   "outputs": [
    {
     "data": {
      "text/plain": [
       "array([[20,  0,  0,  0,  0,  0],\n",
       "       [ 0,  9,  8,  3,  0,  0],\n",
       "       [ 0,  0, 16,  2,  2,  0],\n",
       "       [ 0,  0,  4, 15,  1,  0],\n",
       "       [ 0,  1,  0,  2, 14,  3],\n",
       "       [ 0,  0,  0,  0,  4, 16]])"
      ]
     },
     "execution_count": 32,
     "metadata": {},
     "output_type": "execute_result"
    }
   ],
   "source": [
    "preds = grid_search_model_1.best_estimator_.predict(file_contents_test)\n",
    "\n",
    "confusion_matrix(targets_test, preds)"
   ]
  },
  {
   "cell_type": "markdown",
   "id": "practical-consistency",
   "metadata": {},
   "source": [
    "Main **conclusion**: for unseen data, we would choose to use the estimator from above."
   ]
  },
  {
   "cell_type": "markdown",
   "id": "otherwise-border",
   "metadata": {},
   "source": [
    "### Michaels Testing"
   ]
  },
  {
   "cell_type": "code",
   "execution_count": 34,
   "id": "aggressive-rover",
   "metadata": {},
   "outputs": [
    {
     "data": {
      "image/png": "[encoded data removed]",
      "text/plain": [
       "<Figure size 720x720 with 2 Axes>"
      ]
     },
     "metadata": {
      "needs_background": "light"
     },
     "output_type": "display_data"
    },
    {
     "data": {
      "image/png": "[encoded data removed]",
      "text/plain": [
       "<Figure size 720x720 with 2 Axes>"
      ]
     },
     "metadata": {
      "needs_background": "light"
     },
     "output_type": "display_data"
    },
    {
     "data": {
      "image/png": "[encoded data removed]",
      "text/plain": [
       "<Figure size 720x720 with 2 Axes>"
      ]
     },
     "metadata": {
      "needs_background": "light"
     },
     "output_type": "display_data"
    },
    {
     "data": {
      "image/png": "[encoded data removed]",
      "text/plain": [
       "<Figure size 720x720 with 2 Axes>"
      ]
     },
     "metadata": {
      "needs_background": "light"
     },
     "output_type": "display_data"
    },
    {
     "data": {
      "image/png": "[encoded data removed]",
      "text/plain": [
       "<Figure size 720x720 with 2 Axes>"
      ]
     },
     "metadata": {
      "needs_background": "light"
     },
     "output_type": "display_data"
    },
    {
     "data": {
      "image/png": "[encoded data removed]",
      "text/plain": [
       "<Figure size 720x720 with 2 Axes>"
      ]
     },
     "metadata": {
      "needs_background": "light"
     },
     "output_type": "display_data"
    },
    {
     "data": {
      "image/png": "[encoded data removed]",
      "text/plain": [
       "<Figure size 720x720 with 2 Axes>"
      ]
     },
     "metadata": {
      "needs_background": "light"
     },
     "output_type": "display_data"
    }
   ],
   "source": [
    "#print(type(preds))\n",
    "#print(type(targets_test))\n",
    "#print(targets_test)\n",
    "#print(models[1])\n",
    "\n",
    "#preds_list = preds.tolist()\n",
    "#print(type(preds_list))\n",
    "def eval_(estimator):\n",
    "    fig, ax = plt.subplots(figsize=(10, 10))\n",
    "    plot_confusion_matrix(estimator=estimator\n",
    "                          , X=file_contents_test\n",
    "                          , y_true=targets_test\n",
    "                          , ax=ax\n",
    "                         )\n",
    "    #accuracy = accuracy_score(y_true=targets_test, y_pred=estimator.predict(file_contents_test))\n",
    "    #print(accuracy)\n",
    "\n",
    "eval_(grid_search_model_1.best_estimator_)\n",
    "eval_(grid_search_model_2.best_estimator_)\n",
    "eval_(grid_search_model_3.best_estimator_)\n",
    "eval_(grid_search_model_4.best_estimator_) # Why you break??\n",
    "eval_(grid_search_model_5.best_estimator_)\n",
    "eval_(grid_search_model_6.best_estimator_)\n",
    "eval_(grid_search_model_7.best_estimator_)"
   ]
  },
  {
   "cell_type": "markdown",
   "id": "filled-commander",
   "metadata": {},
   "source": [
    "## Conclusion"
   ]
  },
  {
   "cell_type": "markdown",
   "id": "vocational-terminology",
   "metadata": {},
   "source": [
    "Draw conclusions from above. but add more evaulations and stuff...."
   ]
  },
  {
   "cell_type": "code",
   "execution_count": null,
   "id": "objective-olympus",
   "metadata": {},
   "outputs": [],
   "source": []
  },
  {
   "cell_type": "markdown",
   "id": "convertible-overall",
   "metadata": {},
   "source": [
    "# Further Works"
   ]
  },
  {
   "cell_type": "markdown",
   "id": "tough-consciousness",
   "metadata": {},
   "source": [
    "* Compare sources - Is it possible to predict althingi vs Sjónvarp\n",
    "* Regression/Continous\n",
    "* Explanatory Variables\n",
    "* Do feature Extraction \n",
    "  * Glove Embedding\n",
    "  * ...\n",
    "\n",
    "**GK Today:**\n",
    "* Introdction\n",
    "* Gutenberg\n",
    "* Future Works\n",
    "* Results section prettier\n",
    "\n",
    "Worksplit:\n",
    "* Michael focusses on: explanability and presentation\n",
    "* GK: Intro, results, and managerian document.\n",
    "* Paul and Guillermo"
   ]
  },
  {
   "cell_type": "code",
   "execution_count": null,
   "id": "flexible-helen",
   "metadata": {},
   "outputs": [],
   "source": [
    " "
   ]
  }
 ],
 "metadata": {
  "kernelspec": {
   "display_name": "Python [conda env:root] *",
   "language": "python",
   "name": "conda-root-py"
  },
  "language_info": {
   "codemirror_mode": {
    "name": "ipython",
    "version": 3
   },
   "file_extension": ".py",
   "mimetype": "text/x-python",
   "name": "python",
   "nbconvert_exporter": "python",
   "pygments_lexer": "ipython3",
   "version": "3.8.3"
  },
  "toc": {
   "base_numbering": 1,
   "nav_menu": {
    "height": "105px",
    "width": "242px"
   },
   "number_sections": true,
   "sideBar": true,
   "skip_h1_title": false,
   "title_cell": "Table of Contents",
   "title_sidebar": "Contents",
   "toc_cell": true,
   "toc_position": {
    "height": "calc(100% - 180px)",
    "left": "10px",
    "top": "150px",
    "width": "555px"
   },
   "toc_section_display": true,
   "toc_window_display": true
  }
 },
 "nbformat": 4,
 "nbformat_minor": 5
}
