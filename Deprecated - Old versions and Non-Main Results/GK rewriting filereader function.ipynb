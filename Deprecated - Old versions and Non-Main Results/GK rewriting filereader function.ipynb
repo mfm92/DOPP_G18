{
 "cells": [
  {
   "cell_type": "markdown",
   "id": "fixed-expansion",
   "metadata": {
    "toc": true
   },
   "source": [
    "<h1>Table of Contents<span class=\"tocSkip\"></span></h1>\n",
    "<div class=\"toc\"><ul class=\"toc-item\"></ul></div>"
   ]
  },
  {
   "cell_type": "code",
   "execution_count": 2,
   "id": "verified-soviet",
   "metadata": {
    "ExecuteTime": {
     "end_time": "2021-01-26T10:51:53.248331Z",
     "start_time": "2021-01-26T10:51:51.595700Z"
    }
   },
   "outputs": [],
   "source": [
    "import pandas as pd\n",
    "import numpy as np\n",
    "import xml.etree.ElementTree as ET\n",
    "import glob\n",
    "from nltk.probability import FreqDist\n",
    "import random\n",
    "from functools import reduce\n",
    "from nltk import ngrams\n",
    "# Used for building models for classifying:\n",
    "from pprint import pprint\n",
    "from time import time\n",
    "import logging\n",
    "from sklearn.feature_extraction.text import CountVectorizer\n",
    "from sklearn.linear_model import SGDClassifier, LogisticRegression\n",
    "from sklearn.naive_bayes import MultinomialNB\n",
    "from sklearn.metrics import make_scorer, accuracy_score\n",
    "from sklearn.model_selection import GridSearchCV\n",
    "from sklearn.pipeline import Pipeline\n",
    "from sklearn.svm import SVC\n",
    "from sklearn.preprocessing import StandardScaler\n",
    "from sklearn.tree import DecisionTreeClassifier\n",
    "from sklearn.ensemble import RandomForestClassifier\n",
    "from sklearn.feature_extraction.text import TfidfVectorizer\n",
    "from sklearn.base import BaseEstimator\n",
    "from sklearn.metrics import accuracy_score\n",
    "from sklearn.metrics import f1_score\n",
    "from sklearn.metrics import recall_score\n",
    "from sklearn.metrics import precision_score\n",
    "from sklearn.metrics import confusion_matrix\n",
    "from sklearn.feature_selection import SelectKBest, chi2\n",
    "from sklearn.svm import SVC\n",
    "from sklearn.ensemble import RandomForestClassifier\n",
    "import matplotlib.pyplot as plt\n",
    "from gensim.models import Word2Vec\n",
    "from gensim.models import Doc2Vec\n",
    "from gensim.models.doc2vec import TaggedDocument\n",
    "from sklearn.metrics import plot_confusion_matrix"
   ]
  },
  {
   "cell_type": "code",
   "execution_count": 45,
   "id": "essential-casting",
   "metadata": {
    "ExecuteTime": {
     "end_time": "2021-01-26T11:04:55.830085Z",
     "start_time": "2021-01-26T11:04:55.817443Z"
    }
   },
   "outputs": [],
   "source": [
    "def get_files_for_year(year, k = None):\n",
    "    files = [filename for filename in glob.iglob('../CC_BY/althingi/{}/'.format(year) + '**/*.xml', \n",
    "                                                 recursive=True)]\n",
    "    if k == None:\n",
    "        newK = len(files)\n",
    "        res = files\n",
    "    else:\n",
    "        newK = k\n",
    "        res =  random.sample(files, min(len(files), k))\n",
    "    if len(files) != 0:\n",
    "        percentage = 100*newK/len(files)\n",
    "    else: \n",
    "        percentage = 0\n",
    "    print(\"For year \" + str(year) + \": Fetching \" + str(newK) +\" samples out of \" + str(len(files)) + \" (~\" + str(percentage) + \"%)\")\n",
    "    return res"
   ]
  },
  {
   "cell_type": "code",
   "execution_count": 47,
   "id": "brutal-importance",
   "metadata": {
    "ExecuteTime": {
     "end_time": "2021-01-26T11:08:22.184391Z",
     "start_time": "2021-01-26T11:08:22.181014Z"
    }
   },
   "outputs": [
    {
     "name": "stdout",
     "output_type": "stream",
     "text": [
      "For year 1912: Fetching 200 samples out of 14 (~1428.5714285714287%)\n"
     ]
    },
    {
     "data": {
      "text/plain": [
       "['../CC_BY/althingi/1912/08/G-33-4523445.xml',\n",
       " '../CC_BY/althingi/1912/08/G-33-4653387.xml',\n",
       " '../CC_BY/althingi/1912/08/G-33-4870088.xml',\n",
       " '../CC_BY/althingi/1912/08/G-33-4896455.xml',\n",
       " '../CC_BY/althingi/1912/08/G-33-4813972.xml',\n",
       " '../CC_BY/althingi/1912/07/G-33-4568851.xml',\n",
       " '../CC_BY/althingi/1912/08/G-33-4597158.xml',\n",
       " '../CC_BY/althingi/1912/08/G-33-4639338.xml',\n",
       " '../CC_BY/althingi/1912/08/G-33-4831567.xml',\n",
       " '../CC_BY/althingi/1912/08/G-33-4922515.xml',\n",
       " '../CC_BY/althingi/1912/08/G-33-4842407.xml',\n",
       " '../CC_BY/althingi/1912/08/G-33-4565360.xml',\n",
       " '../CC_BY/althingi/1912/08/G-33-4856718.xml',\n",
       " '../CC_BY/althingi/1912/08/G-33-4770652.xml']"
      ]
     },
     "execution_count": 47,
     "metadata": {},
     "output_type": "execute_result"
    }
   ],
   "source": [
    "res = get_files_for_year(1912, 200)\n",
    "\n",
    "res"
   ]
  },
  {
   "cell_type": "code",
   "execution_count": 44,
   "id": "framed-governor",
   "metadata": {
    "ExecuteTime": {
     "end_time": "2021-01-26T11:03:05.667516Z",
     "start_time": "2021-01-26T11:03:05.549726Z"
    }
   },
   "outputs": [
    {
     "name": "stdout",
     "output_type": "stream",
     "text": [
      "For year 1913: Fetching 2037 samples out of 2037 (~100.0%)\n",
      "2037\n",
      "For year 1917: Fetching 0 samples out of 0 (~0%)\n",
      "0\n",
      "For year 1930: Fetching 30 samples out of 30 (~100.0%)\n",
      "30\n",
      "For year 1939: Fetching 1632 samples out of 1632 (~100.0%)\n",
      "1632\n",
      "For year 1950: Fetching 3017 samples out of 3017 (~100.0%)\n",
      "3017\n",
      "For year 1954: Fetching 1546 samples out of 1546 (~100.0%)\n",
      "1546\n",
      "For year 1976: Fetching 2555 samples out of 2555 (~100.0%)\n",
      "2555\n",
      "For year 1977: Fetching 2105 samples out of 2105 (~100.0%)\n",
      "2105\n",
      "For year 1994: Fetching 8187 samples out of 8187 (~100.0%)\n",
      "8187\n",
      "For year 2013: Fetching 10240 samples out of 10240 (~100.0%)\n",
      "10240\n",
      "For year 2015: Fetching 18052 samples out of 18052 (~100.0%)\n",
      "18052\n"
     ]
    }
   ],
   "source": [
    "for year in [1913, 1917,1930, 1939, 1950, 1954, 1976, 1977, 1994, 2013,2015]:\n",
    "    get_files_for_year(year)"
   ]
  }
 ],
 "metadata": {
  "kernelspec": {
   "display_name": "Python 3",
   "language": "python",
   "name": "python3"
  },
  "language_info": {
   "codemirror_mode": {
    "name": "ipython",
    "version": 3
   },
   "file_extension": ".py",
   "mimetype": "text/x-python",
   "name": "python",
   "nbconvert_exporter": "python",
   "pygments_lexer": "ipython3",
   "version": "3.8.3"
  },
  "toc": {
   "base_numbering": 1,
   "nav_menu": {},
   "number_sections": true,
   "sideBar": true,
   "skip_h1_title": false,
   "title_cell": "Table of Contents",
   "title_sidebar": "Contents",
   "toc_cell": true,
   "toc_position": {},
   "toc_section_display": true,
   "toc_window_display": true
  }
 },
 "nbformat": 4,
 "nbformat_minor": 5
}
